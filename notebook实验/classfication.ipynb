{
 "cells": [
  {
   "cell_type": "code",
   "execution_count": 1,
   "metadata": {},
   "outputs": [],
   "source": [
    "import lightgbm as lgb\n",
    "import pandas as pd\n",
    "import numpy as np\n",
    "import matplotlib.pyplot as plt\n",
    "import missingno as msno\n",
    "import datetime\n",
    "import seaborn as sns\n",
    "plt.rcParams['font.sans-serif']=['SimHei']\n",
    "plt.rcParams['axes.unicode_minus'] = False\n",
    "import gc\n",
    "from collections import Counter\n",
    "from sklearn.model_selection import GroupKFold, KFold, StratifiedKFold\n",
    "from sklearn.model_selection import GridSearchCV\n",
    "import re\n",
    "from sklearn import preprocessing"
   ]
  },
  {
   "cell_type": "code",
   "execution_count": 75,
   "metadata": {},
   "outputs": [],
   "source": [
    "feature_train=pd.read_pickle(\"./processed_data/df_train.pkl\")\n",
    "feature_test=pd.read_pickle(\"./processed_data/df_test.pkl\")\n",
    "user_train=pd.read_pickle(\"./processed_data/user_train.pkl\")\n",
    "user_test=pd.read_pickle(\"./processed_data/user_test.pkl\")\n",
    "feature_test[\"label\"]=0"
   ]
  },
  {
   "cell_type": "code",
   "execution_count": 76,
   "metadata": {},
   "outputs": [],
   "source": [
    "feature_train.dev_height[feature_train.dev_height==0]=None\n",
    "feature_train.dev_width[feature_train.dev_width==0]=None\n",
    "feature_train.dev_ppi[feature_train.dev_ppi==0]=None\n",
    "feature_test.dev_height[feature_test.dev_height==0]=None\n",
    "feature_test.dev_width[feature_test.dev_width==0]=None\n",
    "feature_test.dev_ppi[feature_test.dev_ppi==0]=None"
   ]
  },
  {
   "cell_type": "code",
   "execution_count": 78,
   "metadata": {},
   "outputs": [],
   "source": [
    "feature_train=pd.merge(feature_train,user_train,left_on=\"android_id\",right_on=\"uid\",how=\"left\",right_index=True)\n",
    "feature_test=pd.merge(feature_test,user_test,left_on=\"android_id\",right_on=\"uid\",how=\"left\",right_index=True)"
   ]
  },
  {
   "cell_type": "code",
   "execution_count": 154,
   "metadata": {},
   "outputs": [
    {
     "output_type": "execute_result",
     "data": {
      "text/plain": "Index(['android_id', 'apptype', 'carrier', 'dev_height', 'dev_ppi',\n       'dev_width', 'label', 'lan', 'media_id', 'ntt', 'os', 'osv', 'package',\n       'timestamp', 'version', 'fea_hash', 'location', 'fea1_hash', 'cus_type',\n       'Day', 'Hour', 'minute', 'apptype_most_index', 'apptype_most_freq',\n       'carrier_most_index', 'carrier_most_freq', 'lan_most_index',\n       'lan_most_freq', 'media_id_most_index', 'media_id_most_freq',\n       'ntt_most_index', 'ntt_most_freq', 'os_most_index', 'os_most_freq',\n       'osv_most_index', 'osv_most_freq', 'package_most_index',\n       'package_most_freq', 'version_most_index', 'version_most_freq',\n       'location_most_index', 'location_most_freq', 'fea1_hash_most_index',\n       'fea1_hash_most_freq', 'cus_type_most_index', 'cus_type_most_freq',\n       'Day_most_index', 'Day_most_freq', 'Hour_most_index', 'Hour_most_freq',\n       'dev_height_min', 'dev_height_max', 'dev_height_mean',\n       'dev_height_median', 'dev_height_nunique', 'dev_ppi_min', 'dev_ppi_max',\n       'dev_ppi_mean', 'dev_ppi_median', 'dev_ppi_nunique', 'dev_width_min',\n       'dev_width_max', 'dev_width_mean', 'dev_width_median',\n       'dev_width_nunique', 'fea_hash_min', 'fea_hash_max', 'fea_hash_mean',\n       'fea_hash_median', 'fea_hash_nunique', 'timestamp_min', 'timestamp_max',\n       'timestamp_mean', 'timestamp_median', 'timestamp_nunique'],\n      dtype='object')"
     },
     "metadata": {},
     "execution_count": 154
    }
   ],
   "source": [
    "feature_train.columns"
   ]
  },
  {
   "cell_type": "code",
   "execution_count": 207,
   "metadata": {},
   "outputs": [],
   "source": [
    "cate_feature = ['apptype', 'carrier', 'lan', 'media_id', 'ntt', 'os', 'osv', 'package', 'version', 'location', 'fea1_hash', 'cus_type']\n",
    "# for item in cate_feature:\n",
    "#     le=preprocessing.LabelEncoder()\n",
    "#     feature_train[item] = le.fit_transform(feature_train[item])\n",
    "#     feature_test[item] = le.transform(feature_test[item])\n",
    "\n",
    "prediction = feature_test[['apptype', 'carrier', 'dev_height', 'dev_ppi',\n",
    "       'dev_width', 'lan', 'media_id', 'ntt', 'os', 'osv', 'package', 'version', 'fea_hash', 'location', 'fea1_hash', 'cus_type']]\n",
    "# prediction = feature_test[['apptype', 'carrier', 'dev_height', 'dev_ppi','timestamp',\n",
    "#        'dev_width', 'lan', 'media_id', 'ntt', 'os', 'osv', 'package', 'version', 'fea_hash', 'location', 'fea1_hash', 'cus_type',\n",
    "#        'Day', 'Hour']]\n",
    "\n",
    "\n",
    "prediction['label'] = 0\n",
    "\n",
    "\n",
    "y_col = 'label'\n",
    "x_col=['apptype', 'carrier', 'dev_height', 'dev_ppi',\n",
    "       'dev_width', 'lan', 'media_id', 'ntt', 'os', 'osv', 'package', 'version', 'fea_hash', 'location', 'fea1_hash', 'cus_type']\n",
    "# x_col = ['apptype', 'carrier', 'dev_height', 'dev_ppi','timestamp',\n",
    "#        'dev_width', 'lan', 'media_id', 'ntt', 'os', 'osv', 'package', 'version', 'fea_hash', 'location', 'fea1_hash', 'cus_type',\n",
    "#        'Day', 'Hour', 'apptype_most_index', 'apptype_most_freq', 'carrier_most_index', 'carrier_most_freq',\n",
    "#        'lan_most_index', 'lan_most_freq', 'media_id_most_index',\n",
    "#        'media_id_most_freq', 'ntt_most_index', 'ntt_most_freq',\n",
    "#        'os_most_index', 'os_most_freq', 'osv_most_index', 'osv_most_freq',\n",
    "#        'package_most_index', 'package_most_freq', 'version_most_index',\n",
    "#        'version_most_freq', 'location_most_index', 'location_most_freq',\n",
    "#        'fea1_hash_most_index', 'fea1_hash_most_freq', 'cus_type_most_index',\n",
    "#        'cus_type_most_freq', 'Day_most_index', 'Day_most_freq',\n",
    "#        'Hour_most_index', 'Hour_most_freq']\n",
    "\n",
    "model = lgb.LGBMClassifier(\n",
    "    boosting_type='gbdt',\n",
    "                           num_leaves=100,\n",
    "                           max_depth=7,\n",
    "                           learning_rate=0.03,\n",
    "                           n_estimators=10000,\n",
    "                           subsample=0.7,\n",
    "                           feature_fraction=0.7,\n",
    "                           reg_alpha=0.3,\n",
    "                           reg_lambda=0.3,\n",
    "                           random_state=220,\n",
    "                           metric=None,\n",
    "                           n_jobs=-1,\n",
    "                           save_binary=True,\n",
    "                        #    max_bin=255\n",
    "                        #    cat_smooth=180\n",
    "                        #    colsample_bytree=0.8\n",
    "                        #    metric=[\"binary_error\"]\n",
    "                        #    max_bin=10,\n",
    "                        #    device=\"gpu\"\n",
    "                           )"
   ]
  },
  {
   "cell_type": "code",
   "execution_count": 208,
   "metadata": {
    "tags": [
     "outputPrepend",
     "outputPrepend",
     "outputPrepend",
     "outputPrepend",
     "outputPrepend",
     "outputPrepend",
     "outputPrepend",
     "outputPrepend",
     "outputPrepend",
     "outputPrepend",
     "outputPrepend",
     "outputPrepend",
     "outputPrepend",
     "outputPrepend",
     "outputPrepend",
     "outputPrepend",
     "outputPrepend",
     "outputPrepend",
     "outputPrepend",
     "outputPrepend",
     "outputPrepend",
     "outputPrepend"
    ]
   },
   "outputs": [
    {
     "output_type": "stream",
     "name": "stdout",
     "text": "\nFold_1 Training ================================\n\nTraining until validation scores don't improve for 300 rounds\n[100]\ttrain's binary_logloss: 0.32049\ttrain's binary_error: 0.120235\tvalid's binary_logloss: 0.325345\tvalid's binary_error: 0.12256\n[200]\ttrain's binary_logloss: 0.297412\ttrain's binary_error: 0.1149\tvalid's binary_logloss: 0.310079\tvalid's binary_error: 0.11887\n[300]\ttrain's binary_logloss: 0.287222\ttrain's binary_error: 0.111507\tvalid's binary_logloss: 0.305738\tvalid's binary_error: 0.11719\n[400]\ttrain's binary_logloss: 0.278574\ttrain's binary_error: 0.108732\tvalid's binary_logloss: 0.30311\tvalid's binary_error: 0.11581\n[500]\ttrain's binary_logloss: 0.272385\ttrain's binary_error: 0.106313\tvalid's binary_logloss: 0.302282\tvalid's binary_error: 0.11504\n[600]\ttrain's binary_logloss: 0.266231\ttrain's binary_error: 0.103935\tvalid's binary_logloss: 0.301495\tvalid's binary_error: 0.11476\n[700]\ttrain's binary_logloss: 0.260557\ttrain's binary_error: 0.101708\tvalid's binary_logloss: 0.301055\tvalid's binary_error: 0.1143\n[800]\ttrain's binary_logloss: 0.25526\ttrain's binary_error: 0.09991\tvalid's binary_logloss: 0.300813\tvalid's binary_error: 0.11408\n[900]\ttrain's binary_logloss: 0.249936\ttrain's binary_error: 0.0980025\tvalid's binary_logloss: 0.300988\tvalid's binary_error: 0.11434\n[1000]\ttrain's binary_logloss: 0.244895\ttrain's binary_error: 0.09605\tvalid's binary_logloss: 0.301218\tvalid's binary_error: 0.11473\nEarly stopping, best iteration is:\n[767]\ttrain's binary_logloss: 0.257045\ttrain's binary_error: 0.100557\tvalid's binary_logloss: 0.300838\tvalid's binary_error: 0.11397\n\nFold_2 Training ================================\n\nTraining until validation scores don't improve for 300 rounds\n[100]\ttrain's binary_logloss: 0.319684\ttrain's binary_error: 0.120663\tvalid's binary_logloss: 0.325885\tvalid's binary_error: 0.12243\n[200]\ttrain's binary_logloss: 0.296647\ttrain's binary_error: 0.114973\tvalid's binary_logloss: 0.311178\tvalid's binary_error: 0.11884\n[300]\ttrain's binary_logloss: 0.285456\ttrain's binary_error: 0.111265\tvalid's binary_logloss: 0.306279\tvalid's binary_error: 0.11672\n[400]\ttrain's binary_logloss: 0.277822\ttrain's binary_error: 0.108785\tvalid's binary_logloss: 0.304062\tvalid's binary_error: 0.11589\n[500]\ttrain's binary_logloss: 0.271322\ttrain's binary_error: 0.10634\tvalid's binary_logloss: 0.302981\tvalid's binary_error: 0.11531\n[600]\ttrain's binary_logloss: 0.265617\ttrain's binary_error: 0.10423\tvalid's binary_logloss: 0.302355\tvalid's binary_error: 0.11468\n[700]\ttrain's binary_logloss: 0.260477\ttrain's binary_error: 0.102215\tvalid's binary_logloss: 0.302058\tvalid's binary_error: 0.11458\n[800]\ttrain's binary_logloss: 0.25535\ttrain's binary_error: 0.100182\tvalid's binary_logloss: 0.301838\tvalid's binary_error: 0.11471\n[900]\ttrain's binary_logloss: 0.250181\ttrain's binary_error: 0.098175\tvalid's binary_logloss: 0.301856\tvalid's binary_error: 0.1146\n[1000]\ttrain's binary_logloss: 0.244982\ttrain's binary_error: 0.0958775\tvalid's binary_logloss: 0.301989\tvalid's binary_error: 0.11461\n[1100]\ttrain's binary_logloss: 0.2402\ttrain's binary_error: 0.0939225\tvalid's binary_logloss: 0.302174\tvalid's binary_error: 0.11476\nEarly stopping, best iteration is:\n[843]\ttrain's binary_logloss: 0.253306\ttrain's binary_error: 0.099475\tvalid's binary_logloss: 0.301765\tvalid's binary_error: 0.11461\n\nFold_3 Training ================================\n\nTraining until validation scores don't improve for 300 rounds\n[100]\ttrain's binary_logloss: 0.318657\ttrain's binary_error: 0.120273\tvalid's binary_logloss: 0.326866\tvalid's binary_error: 0.12464\n[200]\ttrain's binary_logloss: 0.295677\ttrain's binary_error: 0.114525\tvalid's binary_logloss: 0.312427\tvalid's binary_error: 0.1204\n[300]\ttrain's binary_logloss: 0.286087\ttrain's binary_error: 0.111583\tvalid's binary_logloss: 0.308542\tvalid's binary_error: 0.11918\n[400]\ttrain's binary_logloss: 0.278729\ttrain's binary_error: 0.10879\tvalid's binary_logloss: 0.306611\tvalid's binary_error: 0.11808\n[500]\ttrain's binary_logloss: 0.271744\ttrain's binary_error: 0.10623\tvalid's binary_logloss: 0.305433\tvalid's binary_error: 0.11737\n[600]\ttrain's binary_logloss: 0.266189\ttrain's binary_error: 0.104305\tvalid's binary_logloss: 0.304893\tvalid's binary_error: 0.11729\n[700]\ttrain's binary_logloss: 0.261155\ttrain's binary_error: 0.10225\tvalid's binary_logloss: 0.304389\tvalid's binary_error: 0.11667\n[800]\ttrain's binary_logloss: 0.256467\ttrain's binary_error: 0.100485\tvalid's binary_logloss: 0.304059\tvalid's binary_error: 0.1164\n[900]\ttrain's binary_logloss: 0.251145\ttrain's binary_error: 0.0985625\tvalid's binary_logloss: 0.303923\tvalid's binary_error: 0.11629\n[1000]\ttrain's binary_logloss: 0.246445\ttrain's binary_error: 0.096605\tvalid's binary_logloss: 0.303981\tvalid's binary_error: 0.11632\n[1100]\ttrain's binary_logloss: 0.241735\ttrain's binary_error: 0.094755\tvalid's binary_logloss: 0.304149\tvalid's binary_error: 0.11635\n[1200]\ttrain's binary_logloss: 0.237053\ttrain's binary_error: 0.0928375\tvalid's binary_logloss: 0.304484\tvalid's binary_error: 0.11633\nEarly stopping, best iteration is:\n[956]\ttrain's binary_logloss: 0.248577\ttrain's binary_error: 0.097595\tvalid's binary_logloss: 0.303872\tvalid's binary_error: 0.11617\n\nFold_4 Training ================================\n\nTraining until validation scores don't improve for 300 rounds\n[100]\ttrain's binary_logloss: 0.319099\ttrain's binary_error: 0.119252\tvalid's binary_logloss: 0.324684\tvalid's binary_error: 0.1227\n[200]\ttrain's binary_logloss: 0.29595\ttrain's binary_error: 0.114275\tvalid's binary_logloss: 0.309903\tvalid's binary_error: 0.11919\n[300]\ttrain's binary_logloss: 0.285686\ttrain's binary_error: 0.111088\tvalid's binary_logloss: 0.306175\tvalid's binary_error: 0.11799\n[400]\ttrain's binary_logloss: 0.277922\ttrain's binary_error: 0.108165\tvalid's binary_logloss: 0.304129\tvalid's binary_error: 0.11723\n[500]\ttrain's binary_logloss: 0.271328\ttrain's binary_error: 0.10577\tvalid's binary_logloss: 0.303084\tvalid's binary_error: 0.11684\n[600]\ttrain's binary_logloss: 0.265035\ttrain's binary_error: 0.103465\tvalid's binary_logloss: 0.302558\tvalid's binary_error: 0.11657\n[700]\ttrain's binary_logloss: 0.259035\ttrain's binary_error: 0.10138\tvalid's binary_logloss: 0.302101\tvalid's binary_error: 0.11626\n[800]\ttrain's binary_logloss: 0.253505\ttrain's binary_error: 0.0994825\tvalid's binary_logloss: 0.30201\tvalid's binary_error: 0.11621\n[900]\ttrain's binary_logloss: 0.248186\ttrain's binary_error: 0.0973525\tvalid's binary_logloss: 0.302035\tvalid's binary_error: 0.11593\n[1000]\ttrain's binary_logloss: 0.243286\ttrain's binary_error: 0.095395\tvalid's binary_logloss: 0.302309\tvalid's binary_error: 0.11578\nEarly stopping, best iteration is:\n[770]\ttrain's binary_logloss: 0.255215\ttrain's binary_error: 0.10003\tvalid's binary_logloss: 0.301921\tvalid's binary_error: 0.11624\n\nFold_5 Training ================================\n\nTraining until validation scores don't improve for 300 rounds\n[100]\ttrain's binary_logloss: 0.319046\ttrain's binary_error: 0.119375\tvalid's binary_logloss: 0.323804\tvalid's binary_error: 0.12183\n[200]\ttrain's binary_logloss: 0.296057\ttrain's binary_error: 0.11461\tvalid's binary_logloss: 0.30839\tvalid's binary_error: 0.11841\n[300]\ttrain's binary_logloss: 0.286304\ttrain's binary_error: 0.111435\tvalid's binary_logloss: 0.304273\tvalid's binary_error: 0.11688\n[400]\ttrain's binary_logloss: 0.278705\ttrain's binary_error: 0.108217\tvalid's binary_logloss: 0.302015\tvalid's binary_error: 0.11561\n[500]\ttrain's binary_logloss: 0.272552\ttrain's binary_error: 0.106118\tvalid's binary_logloss: 0.300951\tvalid's binary_error: 0.1149\n[600]\ttrain's binary_logloss: 0.26654\ttrain's binary_error: 0.10414\tvalid's binary_logloss: 0.300218\tvalid's binary_error: 0.11417\n[700]\ttrain's binary_logloss: 0.260959\ttrain's binary_error: 0.10226\tvalid's binary_logloss: 0.29979\tvalid's binary_error: 0.11422\n[800]\ttrain's binary_logloss: 0.255812\ttrain's binary_error: 0.100505\tvalid's binary_logloss: 0.299433\tvalid's binary_error: 0.11388\n[900]\ttrain's binary_logloss: 0.250663\ttrain's binary_error: 0.0985175\tvalid's binary_logloss: 0.299462\tvalid's binary_error: 0.11375\n[1000]\ttrain's binary_logloss: 0.245414\ttrain's binary_error: 0.096445\tvalid's binary_logloss: 0.299651\tvalid's binary_error: 0.1138\nEarly stopping, best iteration is:\n[795]\ttrain's binary_logloss: 0.256121\ttrain's binary_error: 0.100625\tvalid's binary_logloss: 0.299429\tvalid's binary_error: 0.11396\n"
    }
   ],
   "source": [
    "oof = []\n",
    "df_importance_list = []\n",
    "n=5\n",
    "kfold = KFold(n_splits=n,shuffle=True,random_state=20)\n",
    "for fold_id, (trn_idx, val_idx) in enumerate(kfold.split(feature_train[x_col], feature_train[y_col])):\n",
    "    X_train = feature_train.iloc[trn_idx][x_col]\n",
    "    Y_train = feature_train.iloc[trn_idx][y_col]\n",
    "\n",
    "    X_val = feature_train.iloc[val_idx][x_col]\n",
    "    Y_val = feature_train.iloc[val_idx][y_col]\n",
    "\n",
    "    print('\\nFold_{} Training ================================\\n'.format(fold_id+1))\n",
    "\n",
    "    lgb_model = model.fit(\n",
    "        X_train,\n",
    "        Y_train,\n",
    "        categorical_feature=cate_feature,\n",
    "        eval_names=['train', 'valid'],\n",
    "        eval_set=[(X_train, Y_train), (X_val, Y_val)],\n",
    "        verbose=100,\n",
    "        eval_metric=[\"binary_logloss\",\"binary_error\"],\n",
    "        early_stopping_rounds=300\n",
    "    )\n",
    "\n",
    "    pred_val = lgb_model.predict_proba(X_val, num_iteration=lgb_model.best_iteration_)[:, 1]\n",
    "    df_oof = feature_train.iloc[val_idx].copy()\n",
    "    df_oof['pred'] = pred_val\n",
    "    oof.append(df_oof)\n",
    "\n",
    "    pred_test = lgb_model.predict_proba(feature_test[x_col], num_iteration=lgb_model.best_iteration_)[:, 1]\n",
    "    prediction['label'] += pred_test / n\n",
    "\n",
    "    df_importance = pd.DataFrame({\n",
    "        'column': x_col,\n",
    "        'importance': lgb_model.feature_importances_,\n",
    "    })\n",
    "    df_importance_list.append(df_importance)"
   ]
  },
  {
   "cell_type": "code",
   "execution_count": 209,
   "metadata": {},
   "outputs": [
    {
     "output_type": "execute_result",
     "data": {
      "text/plain": "        column  importance\n0     fea_hash     13685.6\n1   dev_height     11820.2\n2     location      9206.4\n3     cus_type      8558.8\n4    fea1_hash      6276.0\n5    dev_width      6043.4\n6      dev_ppi      3457.2\n7      package      2597.0\n8     media_id      2470.2\n9      apptype      1955.6\n10         osv      1745.0\n11          os      1113.6\n12     version       751.2\n13     carrier       334.2\n14         ntt       268.4\n15         lan       195.6",
      "text/html": "<div>\n<style scoped>\n    .dataframe tbody tr th:only-of-type {\n        vertical-align: middle;\n    }\n\n    .dataframe tbody tr th {\n        vertical-align: top;\n    }\n\n    .dataframe thead th {\n        text-align: right;\n    }\n</style>\n<table border=\"1\" class=\"dataframe\">\n  <thead>\n    <tr style=\"text-align: right;\">\n      <th></th>\n      <th>column</th>\n      <th>importance</th>\n    </tr>\n  </thead>\n  <tbody>\n    <tr>\n      <th>0</th>\n      <td>fea_hash</td>\n      <td>13685.6</td>\n    </tr>\n    <tr>\n      <th>1</th>\n      <td>dev_height</td>\n      <td>11820.2</td>\n    </tr>\n    <tr>\n      <th>2</th>\n      <td>location</td>\n      <td>9206.4</td>\n    </tr>\n    <tr>\n      <th>3</th>\n      <td>cus_type</td>\n      <td>8558.8</td>\n    </tr>\n    <tr>\n      <th>4</th>\n      <td>fea1_hash</td>\n      <td>6276.0</td>\n    </tr>\n    <tr>\n      <th>5</th>\n      <td>dev_width</td>\n      <td>6043.4</td>\n    </tr>\n    <tr>\n      <th>6</th>\n      <td>dev_ppi</td>\n      <td>3457.2</td>\n    </tr>\n    <tr>\n      <th>7</th>\n      <td>package</td>\n      <td>2597.0</td>\n    </tr>\n    <tr>\n      <th>8</th>\n      <td>media_id</td>\n      <td>2470.2</td>\n    </tr>\n    <tr>\n      <th>9</th>\n      <td>apptype</td>\n      <td>1955.6</td>\n    </tr>\n    <tr>\n      <th>10</th>\n      <td>osv</td>\n      <td>1745.0</td>\n    </tr>\n    <tr>\n      <th>11</th>\n      <td>os</td>\n      <td>1113.6</td>\n    </tr>\n    <tr>\n      <th>12</th>\n      <td>version</td>\n      <td>751.2</td>\n    </tr>\n    <tr>\n      <th>13</th>\n      <td>carrier</td>\n      <td>334.2</td>\n    </tr>\n    <tr>\n      <th>14</th>\n      <td>ntt</td>\n      <td>268.4</td>\n    </tr>\n    <tr>\n      <th>15</th>\n      <td>lan</td>\n      <td>195.6</td>\n    </tr>\n  </tbody>\n</table>\n</div>"
     },
     "metadata": {},
     "execution_count": 209
    }
   ],
   "source": [
    "df_importance = pd.concat(df_importance_list)\n",
    "df_importance = df_importance.groupby(['column'])['importance'].agg('mean').sort_values(ascending=False).reset_index()\n",
    "df_importance"
   ]
  },
  {
   "cell_type": "code",
   "execution_count": 223,
   "metadata": {},
   "outputs": [],
   "source": [
    "a = pd.DataFrame(prediction.index)\n",
    "a['label'] = lgb_model.predict(prediction[x_col])"
   ]
  },
  {
   "cell_type": "code",
   "execution_count": 110,
   "metadata": {},
   "outputs": [],
   "source": [
    "# a.to_csv('submission_0605_0124.csv', index=False)"
   ]
  },
  {
   "cell_type": "code",
   "execution_count": 224,
   "metadata": {},
   "outputs": [],
   "source": [
    "user_label=pd.DataFrame()\n",
    "user_label[\"uid\"]=feature_train.groupby(\"android_id\").count().index\n",
    "user_label=user_label.set_index(\"uid\")"
   ]
  },
  {
   "cell_type": "code",
   "execution_count": 225,
   "metadata": {},
   "outputs": [],
   "source": [
    "user_label[\"label_prior\"]=feature_train.groupby(\"android_id\").label.mean()"
   ]
  },
  {
   "cell_type": "code",
   "execution_count": 226,
   "metadata": {},
   "outputs": [],
   "source": [
    "a[\"uid\"]=feature_test.android_id.values"
   ]
  },
  {
   "cell_type": "code",
   "execution_count": 227,
   "metadata": {},
   "outputs": [],
   "source": [
    "a=pd.merge(a,user_label,on=\"uid\",how=\"left\")"
   ]
  },
  {
   "cell_type": "code",
   "execution_count": 228,
   "metadata": {},
   "outputs": [],
   "source": [
    "def post(label,prior):\n",
    "    n=len(label)\n",
    "    count=0\n",
    "    for i in range(n):\n",
    "        if 0<=prior[i]<=0.3 and label[i]==1:\n",
    "            label[i]=0\n",
    "            count+=1\n",
    "            # print(i)\n",
    "        elif 0.7<=prior[i]<=1 and label[i]==0:\n",
    "            label[i]=1\n",
    "            count+=1\n",
    "            # print(i)\n",
    "        else:\n",
    "            pass\n",
    "    print(count)\n",
    "    return label.values"
   ]
  },
  {
   "cell_type": "code",
   "execution_count": 229,
   "metadata": {},
   "outputs": [
    {
     "output_type": "stream",
     "name": "stdout",
     "text": "406\n"
    }
   ],
   "source": [
    "a.label=post(a.label,a.label_prior)"
   ]
  },
  {
   "cell_type": "code",
   "execution_count": 230,
   "metadata": {},
   "outputs": [],
   "source": [
    "a=a[[\"sid\",\"label\"]]\n",
    "a.to_csv('submission_0605_0226.csv', index=False)"
   ]
  },
  {
   "cell_type": "code",
   "execution_count": 231,
   "metadata": {},
   "outputs": [
    {
     "output_type": "execute_result",
     "data": {
      "text/plain": "            sid  label\n0       1440682      0\n1       1606824      1\n2       1774642      0\n3       1742535      0\n4       1689686      1\n...         ...    ...\n149995  1165373      1\n149996  1444115      1\n149997  1134378      1\n149998  1700238      1\n149999  1201539      1\n\n[150000 rows x 2 columns]",
      "text/html": "<div>\n<style scoped>\n    .dataframe tbody tr th:only-of-type {\n        vertical-align: middle;\n    }\n\n    .dataframe tbody tr th {\n        vertical-align: top;\n    }\n\n    .dataframe thead th {\n        text-align: right;\n    }\n</style>\n<table border=\"1\" class=\"dataframe\">\n  <thead>\n    <tr style=\"text-align: right;\">\n      <th></th>\n      <th>sid</th>\n      <th>label</th>\n    </tr>\n  </thead>\n  <tbody>\n    <tr>\n      <th>0</th>\n      <td>1440682</td>\n      <td>0</td>\n    </tr>\n    <tr>\n      <th>1</th>\n      <td>1606824</td>\n      <td>1</td>\n    </tr>\n    <tr>\n      <th>2</th>\n      <td>1774642</td>\n      <td>0</td>\n    </tr>\n    <tr>\n      <th>3</th>\n      <td>1742535</td>\n      <td>0</td>\n    </tr>\n    <tr>\n      <th>4</th>\n      <td>1689686</td>\n      <td>1</td>\n    </tr>\n    <tr>\n      <th>...</th>\n      <td>...</td>\n      <td>...</td>\n    </tr>\n    <tr>\n      <th>149995</th>\n      <td>1165373</td>\n      <td>1</td>\n    </tr>\n    <tr>\n      <th>149996</th>\n      <td>1444115</td>\n      <td>1</td>\n    </tr>\n    <tr>\n      <th>149997</th>\n      <td>1134378</td>\n      <td>1</td>\n    </tr>\n    <tr>\n      <th>149998</th>\n      <td>1700238</td>\n      <td>1</td>\n    </tr>\n    <tr>\n      <th>149999</th>\n      <td>1201539</td>\n      <td>1</td>\n    </tr>\n  </tbody>\n</table>\n<p>150000 rows × 2 columns</p>\n</div>"
     },
     "metadata": {},
     "execution_count": 231
    }
   ],
   "source": [
    "a"
   ]
  },
  {
   "cell_type": "markdown",
   "metadata": {},
   "source": [
    "## 实验"
   ]
  },
  {
   "cell_type": "code",
   "execution_count": 403,
   "metadata": {},
   "outputs": [],
   "source": [
    "# a=feature_train.groupby([\"android_id\",\"package\"])[\"label\"].agg([\"mean\",\"count\"])\n",
    "a=feature_train.groupby([\"android_id\",\"media_id\"])[\"label\"].mean()"
   ]
  },
  {
   "cell_type": "code",
   "execution_count": 404,
   "metadata": {},
   "outputs": [
    {
     "output_type": "execute_result",
     "data": {
      "text/plain": "android_id  media_id\n0           0           0.103597\n            3           0.285714\n            6           0.845617\n            7           0.000000\n            8           0.029891\n                          ...   \n709888      20          1.000000\n709891      7           0.000000\n709892      0           1.000000\n709895      35          1.000000\n709898      60          0.000000\nName: label, Length: 362649, dtype: float64"
     },
     "metadata": {},
     "execution_count": 404
    }
   ],
   "source": [
    "a"
   ]
  },
  {
   "cell_type": "code",
   "execution_count": 405,
   "metadata": {},
   "outputs": [],
   "source": [
    "def fun1(x):\n",
    "    if x>=0.5:\n",
    "        return 1\n",
    "    else:\n",
    "        return 0"
   ]
  },
  {
   "cell_type": "code",
   "execution_count": 406,
   "metadata": {},
   "outputs": [],
   "source": [
    "c=pd.merge(feature_train,a,on=[\"android_id\",\"media_id\"],how=\"left\")"
   ]
  },
  {
   "cell_type": "code",
   "execution_count": 407,
   "metadata": {},
   "outputs": [],
   "source": [
    "c.label_y=c.label_y.apply(fun1)"
   ]
  },
  {
   "cell_type": "code",
   "execution_count": 408,
   "metadata": {},
   "outputs": [
    {
     "output_type": "stream",
     "name": "stdout",
     "text": "0.96905\n"
    }
   ],
   "source": [
    "count=0\n",
    "d=np.array(c.label_y)\n",
    "e=np.array(feature_train.label)\n",
    "for i in range(len(c.label_y)):\n",
    "    if d[i]==e[i]:\n",
    "        count+=1\n",
    "print(count/500000)"
   ]
  },
  {
   "cell_type": "code",
   "execution_count": 409,
   "metadata": {},
   "outputs": [
    {
     "output_type": "execute_result",
     "data": {
      "text/plain": "1733"
     },
     "metadata": {},
     "execution_count": 409
    }
   ],
   "source": [
    "gc.collect()"
   ]
  },
  {
   "cell_type": "code",
   "execution_count": 258,
   "metadata": {},
   "outputs": [
    {
     "output_type": "execute_result",
     "data": {
      "text/plain": "         apptype  carrier  dev_height  dev_ppi  dev_width  lan  media_id  ntt  \\\nsid                                                                             \n1093419       49        2      2214.0      NaN     1080.0    7        25    1   \n1387136       68        2         NaN      NaN        NaN    7         8    0   \n1910989       31        1         NaN      NaN        NaN    7         4    5   \n1842043       12        4      1920.0      NaN     1080.0    7        11    5   \n1806212       29        2      2130.0      3.0     1080.0    9         0    5   \n1671763       49        2      1920.0    480.0     1080.0    8        26    5   \n1948217       83        2       960.0      NaN      540.0    7         7    1   \n1212520       36        2      2280.0      NaN     1080.0    9         3    5   \n1311419       48        2         NaN    480.0        NaN    9        54    1   \n1904621       68        2         NaN      NaN        NaN    7         8    0   \n1891655       31        1         NaN      NaN        NaN    7        10    1   \n1402438       36        2      1280.0      NaN      720.0    7        18    5   \n1025938       12        3      1920.0      NaN     1080.0    7        11    5   \n1456930       31        1         NaN      NaN        NaN    7        10    1   \n1082872       58        2      1920.0    480.0     1080.0    9        14    1   \n1095510       68        2         NaN      NaN        NaN    7         8    1   \n1998523       81        2         NaN      NaN        NaN    3        20    1   \n1176892       58        2      1280.0    480.0      720.0    9        14    1   \n1914724       12        2      1800.0      NaN     1080.0    7        11    1   \n1901717       36        2      1436.0      NaN      720.0    7        18    1   \n\n         os  osv  package  version    fea_hash  location  fea1_hash  cus_type  \nsid                                                                            \n1093419   1    8        1        1  3562553457         4        152        24  \n1387136   1    9       99        1   369486452         7        480         6  \n1910989   1    8        1        8  3307888762         9        364        31  \n1842043   1    5       10        1  2675936369        11        121         2  \n1806212   0    9      137       14  3213977823        13        163        29  \n1671763   1    7       24       12  3180341175        14         99        29  \n1948217   1    5        6        1  1854118439        15        275         8  \n1212520   0    8        3        7   738486495        13        336         1  \n1311419   0    8       68        2  3055065311        16        416         5  \n1904621   1    4      162        1  3082557301        19        487         6  \n1891655   1    0        1        8  1994502773        21         79        56  \n1402438   1    6        1        8  1914603637        22        314        52  \n1025938   1    6       10        1  2174066237        24        206         8  \n1456930   1    8        1        8  4090121327        21         79        25  \n1082872   0    5       14        1  1445537392        25        463        45  \n1095510   1    8      107        1   276796533        27        480         6  \n1998523   1    8       18       13  2829761653         0        301        40  \n1176892   0    6       14        1  3742743101        28        463         2  \n1914724   1    5       10        1   439342394        13        215        28  \n1901717   1    8        1        8  1444686906        32        314        57  ",
      "text/html": "<div>\n<style scoped>\n    .dataframe tbody tr th:only-of-type {\n        vertical-align: middle;\n    }\n\n    .dataframe tbody tr th {\n        vertical-align: top;\n    }\n\n    .dataframe thead th {\n        text-align: right;\n    }\n</style>\n<table border=\"1\" class=\"dataframe\">\n  <thead>\n    <tr style=\"text-align: right;\">\n      <th></th>\n      <th>apptype</th>\n      <th>carrier</th>\n      <th>dev_height</th>\n      <th>dev_ppi</th>\n      <th>dev_width</th>\n      <th>lan</th>\n      <th>media_id</th>\n      <th>ntt</th>\n      <th>os</th>\n      <th>osv</th>\n      <th>package</th>\n      <th>version</th>\n      <th>fea_hash</th>\n      <th>location</th>\n      <th>fea1_hash</th>\n      <th>cus_type</th>\n    </tr>\n    <tr>\n      <th>sid</th>\n      <th></th>\n      <th></th>\n      <th></th>\n      <th></th>\n      <th></th>\n      <th></th>\n      <th></th>\n      <th></th>\n      <th></th>\n      <th></th>\n      <th></th>\n      <th></th>\n      <th></th>\n      <th></th>\n      <th></th>\n      <th></th>\n    </tr>\n  </thead>\n  <tbody>\n    <tr>\n      <th>1093419</th>\n      <td>49</td>\n      <td>2</td>\n      <td>2214.0</td>\n      <td>NaN</td>\n      <td>1080.0</td>\n      <td>7</td>\n      <td>25</td>\n      <td>1</td>\n      <td>1</td>\n      <td>8</td>\n      <td>1</td>\n      <td>1</td>\n      <td>3562553457</td>\n      <td>4</td>\n      <td>152</td>\n      <td>24</td>\n    </tr>\n    <tr>\n      <th>1387136</th>\n      <td>68</td>\n      <td>2</td>\n      <td>NaN</td>\n      <td>NaN</td>\n      <td>NaN</td>\n      <td>7</td>\n      <td>8</td>\n      <td>0</td>\n      <td>1</td>\n      <td>9</td>\n      <td>99</td>\n      <td>1</td>\n      <td>369486452</td>\n      <td>7</td>\n      <td>480</td>\n      <td>6</td>\n    </tr>\n    <tr>\n      <th>1910989</th>\n      <td>31</td>\n      <td>1</td>\n      <td>NaN</td>\n      <td>NaN</td>\n      <td>NaN</td>\n      <td>7</td>\n      <td>4</td>\n      <td>5</td>\n      <td>1</td>\n      <td>8</td>\n      <td>1</td>\n      <td>8</td>\n      <td>3307888762</td>\n      <td>9</td>\n      <td>364</td>\n      <td>31</td>\n    </tr>\n    <tr>\n      <th>1842043</th>\n      <td>12</td>\n      <td>4</td>\n      <td>1920.0</td>\n      <td>NaN</td>\n      <td>1080.0</td>\n      <td>7</td>\n      <td>11</td>\n      <td>5</td>\n      <td>1</td>\n      <td>5</td>\n      <td>10</td>\n      <td>1</td>\n      <td>2675936369</td>\n      <td>11</td>\n      <td>121</td>\n      <td>2</td>\n    </tr>\n    <tr>\n      <th>1806212</th>\n      <td>29</td>\n      <td>2</td>\n      <td>2130.0</td>\n      <td>3.0</td>\n      <td>1080.0</td>\n      <td>9</td>\n      <td>0</td>\n      <td>5</td>\n      <td>0</td>\n      <td>9</td>\n      <td>137</td>\n      <td>14</td>\n      <td>3213977823</td>\n      <td>13</td>\n      <td>163</td>\n      <td>29</td>\n    </tr>\n    <tr>\n      <th>1671763</th>\n      <td>49</td>\n      <td>2</td>\n      <td>1920.0</td>\n      <td>480.0</td>\n      <td>1080.0</td>\n      <td>8</td>\n      <td>26</td>\n      <td>5</td>\n      <td>1</td>\n      <td>7</td>\n      <td>24</td>\n      <td>12</td>\n      <td>3180341175</td>\n      <td>14</td>\n      <td>99</td>\n      <td>29</td>\n    </tr>\n    <tr>\n      <th>1948217</th>\n      <td>83</td>\n      <td>2</td>\n      <td>960.0</td>\n      <td>NaN</td>\n      <td>540.0</td>\n      <td>7</td>\n      <td>7</td>\n      <td>1</td>\n      <td>1</td>\n      <td>5</td>\n      <td>6</td>\n      <td>1</td>\n      <td>1854118439</td>\n      <td>15</td>\n      <td>275</td>\n      <td>8</td>\n    </tr>\n    <tr>\n      <th>1212520</th>\n      <td>36</td>\n      <td>2</td>\n      <td>2280.0</td>\n      <td>NaN</td>\n      <td>1080.0</td>\n      <td>9</td>\n      <td>3</td>\n      <td>5</td>\n      <td>0</td>\n      <td>8</td>\n      <td>3</td>\n      <td>7</td>\n      <td>738486495</td>\n      <td>13</td>\n      <td>336</td>\n      <td>1</td>\n    </tr>\n    <tr>\n      <th>1311419</th>\n      <td>48</td>\n      <td>2</td>\n      <td>NaN</td>\n      <td>480.0</td>\n      <td>NaN</td>\n      <td>9</td>\n      <td>54</td>\n      <td>1</td>\n      <td>0</td>\n      <td>8</td>\n      <td>68</td>\n      <td>2</td>\n      <td>3055065311</td>\n      <td>16</td>\n      <td>416</td>\n      <td>5</td>\n    </tr>\n    <tr>\n      <th>1904621</th>\n      <td>68</td>\n      <td>2</td>\n      <td>NaN</td>\n      <td>NaN</td>\n      <td>NaN</td>\n      <td>7</td>\n      <td>8</td>\n      <td>0</td>\n      <td>1</td>\n      <td>4</td>\n      <td>162</td>\n      <td>1</td>\n      <td>3082557301</td>\n      <td>19</td>\n      <td>487</td>\n      <td>6</td>\n    </tr>\n    <tr>\n      <th>1891655</th>\n      <td>31</td>\n      <td>1</td>\n      <td>NaN</td>\n      <td>NaN</td>\n      <td>NaN</td>\n      <td>7</td>\n      <td>10</td>\n      <td>1</td>\n      <td>1</td>\n      <td>0</td>\n      <td>1</td>\n      <td>8</td>\n      <td>1994502773</td>\n      <td>21</td>\n      <td>79</td>\n      <td>56</td>\n    </tr>\n    <tr>\n      <th>1402438</th>\n      <td>36</td>\n      <td>2</td>\n      <td>1280.0</td>\n      <td>NaN</td>\n      <td>720.0</td>\n      <td>7</td>\n      <td>18</td>\n      <td>5</td>\n      <td>1</td>\n      <td>6</td>\n      <td>1</td>\n      <td>8</td>\n      <td>1914603637</td>\n      <td>22</td>\n      <td>314</td>\n      <td>52</td>\n    </tr>\n    <tr>\n      <th>1025938</th>\n      <td>12</td>\n      <td>3</td>\n      <td>1920.0</td>\n      <td>NaN</td>\n      <td>1080.0</td>\n      <td>7</td>\n      <td>11</td>\n      <td>5</td>\n      <td>1</td>\n      <td>6</td>\n      <td>10</td>\n      <td>1</td>\n      <td>2174066237</td>\n      <td>24</td>\n      <td>206</td>\n      <td>8</td>\n    </tr>\n    <tr>\n      <th>1456930</th>\n      <td>31</td>\n      <td>1</td>\n      <td>NaN</td>\n      <td>NaN</td>\n      <td>NaN</td>\n      <td>7</td>\n      <td>10</td>\n      <td>1</td>\n      <td>1</td>\n      <td>8</td>\n      <td>1</td>\n      <td>8</td>\n      <td>4090121327</td>\n      <td>21</td>\n      <td>79</td>\n      <td>25</td>\n    </tr>\n    <tr>\n      <th>1082872</th>\n      <td>58</td>\n      <td>2</td>\n      <td>1920.0</td>\n      <td>480.0</td>\n      <td>1080.0</td>\n      <td>9</td>\n      <td>14</td>\n      <td>1</td>\n      <td>0</td>\n      <td>5</td>\n      <td>14</td>\n      <td>1</td>\n      <td>1445537392</td>\n      <td>25</td>\n      <td>463</td>\n      <td>45</td>\n    </tr>\n    <tr>\n      <th>1095510</th>\n      <td>68</td>\n      <td>2</td>\n      <td>NaN</td>\n      <td>NaN</td>\n      <td>NaN</td>\n      <td>7</td>\n      <td>8</td>\n      <td>1</td>\n      <td>1</td>\n      <td>8</td>\n      <td>107</td>\n      <td>1</td>\n      <td>276796533</td>\n      <td>27</td>\n      <td>480</td>\n      <td>6</td>\n    </tr>\n    <tr>\n      <th>1998523</th>\n      <td>81</td>\n      <td>2</td>\n      <td>NaN</td>\n      <td>NaN</td>\n      <td>NaN</td>\n      <td>3</td>\n      <td>20</td>\n      <td>1</td>\n      <td>1</td>\n      <td>8</td>\n      <td>18</td>\n      <td>13</td>\n      <td>2829761653</td>\n      <td>0</td>\n      <td>301</td>\n      <td>40</td>\n    </tr>\n    <tr>\n      <th>1176892</th>\n      <td>58</td>\n      <td>2</td>\n      <td>1280.0</td>\n      <td>480.0</td>\n      <td>720.0</td>\n      <td>9</td>\n      <td>14</td>\n      <td>1</td>\n      <td>0</td>\n      <td>6</td>\n      <td>14</td>\n      <td>1</td>\n      <td>3742743101</td>\n      <td>28</td>\n      <td>463</td>\n      <td>2</td>\n    </tr>\n    <tr>\n      <th>1914724</th>\n      <td>12</td>\n      <td>2</td>\n      <td>1800.0</td>\n      <td>NaN</td>\n      <td>1080.0</td>\n      <td>7</td>\n      <td>11</td>\n      <td>1</td>\n      <td>1</td>\n      <td>5</td>\n      <td>10</td>\n      <td>1</td>\n      <td>439342394</td>\n      <td>13</td>\n      <td>215</td>\n      <td>28</td>\n    </tr>\n    <tr>\n      <th>1901717</th>\n      <td>36</td>\n      <td>2</td>\n      <td>1436.0</td>\n      <td>NaN</td>\n      <td>720.0</td>\n      <td>7</td>\n      <td>18</td>\n      <td>1</td>\n      <td>1</td>\n      <td>8</td>\n      <td>1</td>\n      <td>8</td>\n      <td>1444686906</td>\n      <td>32</td>\n      <td>314</td>\n      <td>57</td>\n    </tr>\n  </tbody>\n</table>\n</div>"
     },
     "metadata": {},
     "execution_count": 258
    }
   ],
   "source": [
    "feature_train[['apptype', 'carrier', 'dev_height', 'dev_ppi',\n",
    "       'dev_width', 'lan', 'media_id', 'ntt', 'os', 'osv', 'package', 'version', 'fea_hash', 'location', 'fea1_hash', 'cus_type']][feature_train.label==0].head(20)"
   ]
  },
  {
   "cell_type": "code",
   "execution_count": 259,
   "metadata": {},
   "outputs": [
    {
     "output_type": "execute_result",
     "data": {
      "text/plain": "         apptype  carrier  dev_height  dev_ppi  dev_width  lan  media_id  ntt  \\\nsid                                                                             \n1438873       81        2         NaN      NaN        NaN    7        20    5   \n1185582       31        1         NaN      NaN        NaN    7         4    5   \n1555716       22        1       760.0      NaN      360.0    7         0    0   \n1400089       62        2      2280.0      NaN     1080.0    9        13    1   \n1253737       18        2      2196.0    480.0     1080.0    9        35    5   \n1597216       48        2       760.0      NaN      360.0    9         6    1   \n1785622       48        2       760.0      NaN      360.0    9         6    1   \n1935139       48        2       851.0      NaN      393.0    9         6    1   \n1379250       40        0         NaN      NaN        NaN    7        15    5   \n1244309       62        2      2280.0      NaN     1080.0    9        13    1   \n1486336       62        3      2248.0      NaN     1080.0    9        13    1   \n1196033       39        2      2280.0      3.0     1080.0    9         1    1   \n1382262       48        2       760.0      NaN      360.0    9         6    4   \n1665696       40        0         NaN      NaN        NaN    7        38    5   \n1415404       18        2      2340.0      2.0     1080.0    9         0    1   \n1619212       36        2      2340.0      NaN     1080.0    7        18    1   \n1583202       59        3      1080.0      NaN     2280.0    7         2    1   \n1379014       25        2      1280.0      2.0      720.0   10         0    1   \n1677611       62        2      2244.0      NaN     1080.0    9        13    1   \n1004446       48        2       760.0      NaN      360.0    9         6    4   \n\n         os  osv  package  version    fea_hash  location  fea1_hash  cus_type  \nsid                                                                            \n1438873   1    9       18       13  2135019403         1        301        16  \n1185582   1    8        1        8  2782306428         2        353        37  \n1555716   1    8        1        1  1392806005         3         73        21  \n1400089   1    8        1        9  2364522023         5        189        15  \n1253737   0    8       34        9  1655793887         6        126         7  \n1597216   0    8        5        1  3912031003         8        326         6  \n1785622   0    8        5        1  1485855711        10        336         6  \n1935139   0    9        5        1  2979808474        12        326         6  \n1379250   1    7       16        1  3369125340        17         15         0  \n1244309   1    8        1       11  1247442958        18        112        46  \n1486336   1    8        1        9  2978368039        20        108        19  \n1196033   0    8        2        4  3048506213         6         14        25  \n1382262   0    8        5        1  1584518518        23        341         6  \n1665696   1    3       39        1   596797663        26         15         9  \n1415404   1    8        8       13   634714332        21        479        52  \n1619212   1    8        1        9  3897128308        29        371        11  \n1583202   1    8        1        1  3396161137        18        199        17  \n1379014   1    6        1        8   183315515        30          0         8  \n1677611   1    9        1        9   619647515        31        447        21  \n1004446   0    8        5        1   771237751        34        342         6  ",
      "text/html": "<div>\n<style scoped>\n    .dataframe tbody tr th:only-of-type {\n        vertical-align: middle;\n    }\n\n    .dataframe tbody tr th {\n        vertical-align: top;\n    }\n\n    .dataframe thead th {\n        text-align: right;\n    }\n</style>\n<table border=\"1\" class=\"dataframe\">\n  <thead>\n    <tr style=\"text-align: right;\">\n      <th></th>\n      <th>apptype</th>\n      <th>carrier</th>\n      <th>dev_height</th>\n      <th>dev_ppi</th>\n      <th>dev_width</th>\n      <th>lan</th>\n      <th>media_id</th>\n      <th>ntt</th>\n      <th>os</th>\n      <th>osv</th>\n      <th>package</th>\n      <th>version</th>\n      <th>fea_hash</th>\n      <th>location</th>\n      <th>fea1_hash</th>\n      <th>cus_type</th>\n    </tr>\n    <tr>\n      <th>sid</th>\n      <th></th>\n      <th></th>\n      <th></th>\n      <th></th>\n      <th></th>\n      <th></th>\n      <th></th>\n      <th></th>\n      <th></th>\n      <th></th>\n      <th></th>\n      <th></th>\n      <th></th>\n      <th></th>\n      <th></th>\n      <th></th>\n    </tr>\n  </thead>\n  <tbody>\n    <tr>\n      <th>1438873</th>\n      <td>81</td>\n      <td>2</td>\n      <td>NaN</td>\n      <td>NaN</td>\n      <td>NaN</td>\n      <td>7</td>\n      <td>20</td>\n      <td>5</td>\n      <td>1</td>\n      <td>9</td>\n      <td>18</td>\n      <td>13</td>\n      <td>2135019403</td>\n      <td>1</td>\n      <td>301</td>\n      <td>16</td>\n    </tr>\n    <tr>\n      <th>1185582</th>\n      <td>31</td>\n      <td>1</td>\n      <td>NaN</td>\n      <td>NaN</td>\n      <td>NaN</td>\n      <td>7</td>\n      <td>4</td>\n      <td>5</td>\n      <td>1</td>\n      <td>8</td>\n      <td>1</td>\n      <td>8</td>\n      <td>2782306428</td>\n      <td>2</td>\n      <td>353</td>\n      <td>37</td>\n    </tr>\n    <tr>\n      <th>1555716</th>\n      <td>22</td>\n      <td>1</td>\n      <td>760.0</td>\n      <td>NaN</td>\n      <td>360.0</td>\n      <td>7</td>\n      <td>0</td>\n      <td>0</td>\n      <td>1</td>\n      <td>8</td>\n      <td>1</td>\n      <td>1</td>\n      <td>1392806005</td>\n      <td>3</td>\n      <td>73</td>\n      <td>21</td>\n    </tr>\n    <tr>\n      <th>1400089</th>\n      <td>62</td>\n      <td>2</td>\n      <td>2280.0</td>\n      <td>NaN</td>\n      <td>1080.0</td>\n      <td>9</td>\n      <td>13</td>\n      <td>1</td>\n      <td>1</td>\n      <td>8</td>\n      <td>1</td>\n      <td>9</td>\n      <td>2364522023</td>\n      <td>5</td>\n      <td>189</td>\n      <td>15</td>\n    </tr>\n    <tr>\n      <th>1253737</th>\n      <td>18</td>\n      <td>2</td>\n      <td>2196.0</td>\n      <td>480.0</td>\n      <td>1080.0</td>\n      <td>9</td>\n      <td>35</td>\n      <td>5</td>\n      <td>0</td>\n      <td>8</td>\n      <td>34</td>\n      <td>9</td>\n      <td>1655793887</td>\n      <td>6</td>\n      <td>126</td>\n      <td>7</td>\n    </tr>\n    <tr>\n      <th>1597216</th>\n      <td>48</td>\n      <td>2</td>\n      <td>760.0</td>\n      <td>NaN</td>\n      <td>360.0</td>\n      <td>9</td>\n      <td>6</td>\n      <td>1</td>\n      <td>0</td>\n      <td>8</td>\n      <td>5</td>\n      <td>1</td>\n      <td>3912031003</td>\n      <td>8</td>\n      <td>326</td>\n      <td>6</td>\n    </tr>\n    <tr>\n      <th>1785622</th>\n      <td>48</td>\n      <td>2</td>\n      <td>760.0</td>\n      <td>NaN</td>\n      <td>360.0</td>\n      <td>9</td>\n      <td>6</td>\n      <td>1</td>\n      <td>0</td>\n      <td>8</td>\n      <td>5</td>\n      <td>1</td>\n      <td>1485855711</td>\n      <td>10</td>\n      <td>336</td>\n      <td>6</td>\n    </tr>\n    <tr>\n      <th>1935139</th>\n      <td>48</td>\n      <td>2</td>\n      <td>851.0</td>\n      <td>NaN</td>\n      <td>393.0</td>\n      <td>9</td>\n      <td>6</td>\n      <td>1</td>\n      <td>0</td>\n      <td>9</td>\n      <td>5</td>\n      <td>1</td>\n      <td>2979808474</td>\n      <td>12</td>\n      <td>326</td>\n      <td>6</td>\n    </tr>\n    <tr>\n      <th>1379250</th>\n      <td>40</td>\n      <td>0</td>\n      <td>NaN</td>\n      <td>NaN</td>\n      <td>NaN</td>\n      <td>7</td>\n      <td>15</td>\n      <td>5</td>\n      <td>1</td>\n      <td>7</td>\n      <td>16</td>\n      <td>1</td>\n      <td>3369125340</td>\n      <td>17</td>\n      <td>15</td>\n      <td>0</td>\n    </tr>\n    <tr>\n      <th>1244309</th>\n      <td>62</td>\n      <td>2</td>\n      <td>2280.0</td>\n      <td>NaN</td>\n      <td>1080.0</td>\n      <td>9</td>\n      <td>13</td>\n      <td>1</td>\n      <td>1</td>\n      <td>8</td>\n      <td>1</td>\n      <td>11</td>\n      <td>1247442958</td>\n      <td>18</td>\n      <td>112</td>\n      <td>46</td>\n    </tr>\n    <tr>\n      <th>1486336</th>\n      <td>62</td>\n      <td>3</td>\n      <td>2248.0</td>\n      <td>NaN</td>\n      <td>1080.0</td>\n      <td>9</td>\n      <td>13</td>\n      <td>1</td>\n      <td>1</td>\n      <td>8</td>\n      <td>1</td>\n      <td>9</td>\n      <td>2978368039</td>\n      <td>20</td>\n      <td>108</td>\n      <td>19</td>\n    </tr>\n    <tr>\n      <th>1196033</th>\n      <td>39</td>\n      <td>2</td>\n      <td>2280.0</td>\n      <td>3.0</td>\n      <td>1080.0</td>\n      <td>9</td>\n      <td>1</td>\n      <td>1</td>\n      <td>0</td>\n      <td>8</td>\n      <td>2</td>\n      <td>4</td>\n      <td>3048506213</td>\n      <td>6</td>\n      <td>14</td>\n      <td>25</td>\n    </tr>\n    <tr>\n      <th>1382262</th>\n      <td>48</td>\n      <td>2</td>\n      <td>760.0</td>\n      <td>NaN</td>\n      <td>360.0</td>\n      <td>9</td>\n      <td>6</td>\n      <td>4</td>\n      <td>0</td>\n      <td>8</td>\n      <td>5</td>\n      <td>1</td>\n      <td>1584518518</td>\n      <td>23</td>\n      <td>341</td>\n      <td>6</td>\n    </tr>\n    <tr>\n      <th>1665696</th>\n      <td>40</td>\n      <td>0</td>\n      <td>NaN</td>\n      <td>NaN</td>\n      <td>NaN</td>\n      <td>7</td>\n      <td>38</td>\n      <td>5</td>\n      <td>1</td>\n      <td>3</td>\n      <td>39</td>\n      <td>1</td>\n      <td>596797663</td>\n      <td>26</td>\n      <td>15</td>\n      <td>9</td>\n    </tr>\n    <tr>\n      <th>1415404</th>\n      <td>18</td>\n      <td>2</td>\n      <td>2340.0</td>\n      <td>2.0</td>\n      <td>1080.0</td>\n      <td>9</td>\n      <td>0</td>\n      <td>1</td>\n      <td>1</td>\n      <td>8</td>\n      <td>8</td>\n      <td>13</td>\n      <td>634714332</td>\n      <td>21</td>\n      <td>479</td>\n      <td>52</td>\n    </tr>\n    <tr>\n      <th>1619212</th>\n      <td>36</td>\n      <td>2</td>\n      <td>2340.0</td>\n      <td>NaN</td>\n      <td>1080.0</td>\n      <td>7</td>\n      <td>18</td>\n      <td>1</td>\n      <td>1</td>\n      <td>8</td>\n      <td>1</td>\n      <td>9</td>\n      <td>3897128308</td>\n      <td>29</td>\n      <td>371</td>\n      <td>11</td>\n    </tr>\n    <tr>\n      <th>1583202</th>\n      <td>59</td>\n      <td>3</td>\n      <td>1080.0</td>\n      <td>NaN</td>\n      <td>2280.0</td>\n      <td>7</td>\n      <td>2</td>\n      <td>1</td>\n      <td>1</td>\n      <td>8</td>\n      <td>1</td>\n      <td>1</td>\n      <td>3396161137</td>\n      <td>18</td>\n      <td>199</td>\n      <td>17</td>\n    </tr>\n    <tr>\n      <th>1379014</th>\n      <td>25</td>\n      <td>2</td>\n      <td>1280.0</td>\n      <td>2.0</td>\n      <td>720.0</td>\n      <td>10</td>\n      <td>0</td>\n      <td>1</td>\n      <td>1</td>\n      <td>6</td>\n      <td>1</td>\n      <td>8</td>\n      <td>183315515</td>\n      <td>30</td>\n      <td>0</td>\n      <td>8</td>\n    </tr>\n    <tr>\n      <th>1677611</th>\n      <td>62</td>\n      <td>2</td>\n      <td>2244.0</td>\n      <td>NaN</td>\n      <td>1080.0</td>\n      <td>9</td>\n      <td>13</td>\n      <td>1</td>\n      <td>1</td>\n      <td>9</td>\n      <td>1</td>\n      <td>9</td>\n      <td>619647515</td>\n      <td>31</td>\n      <td>447</td>\n      <td>21</td>\n    </tr>\n    <tr>\n      <th>1004446</th>\n      <td>48</td>\n      <td>2</td>\n      <td>760.0</td>\n      <td>NaN</td>\n      <td>360.0</td>\n      <td>9</td>\n      <td>6</td>\n      <td>4</td>\n      <td>0</td>\n      <td>8</td>\n      <td>5</td>\n      <td>1</td>\n      <td>771237751</td>\n      <td>34</td>\n      <td>342</td>\n      <td>6</td>\n    </tr>\n  </tbody>\n</table>\n</div>"
     },
     "metadata": {},
     "execution_count": 259
    }
   ],
   "source": [
    "feature_train[['apptype', 'carrier', 'dev_height', 'dev_ppi',\n",
    "       'dev_width', 'lan', 'media_id', 'ntt', 'os', 'osv', 'package', 'version', 'fea_hash', 'location', 'fea1_hash', 'cus_type']][feature_train.label==1].head(20)"
   ]
  },
  {
   "cell_type": "code",
   "execution_count": null,
   "metadata": {},
   "outputs": [],
   "source": []
  }
 ],
 "metadata": {
  "language_info": {
   "codemirror_mode": {
    "name": "ipython",
    "version": 3
   },
   "file_extension": ".py",
   "mimetype": "text/x-python",
   "name": "python",
   "nbconvert_exporter": "python",
   "pygments_lexer": "ipython3",
   "version": "3.7.6-final"
  },
  "orig_nbformat": 2,
  "kernelspec": {
   "name": "python3",
   "display_name": "Python 3"
  }
 },
 "nbformat": 4,
 "nbformat_minor": 2
}