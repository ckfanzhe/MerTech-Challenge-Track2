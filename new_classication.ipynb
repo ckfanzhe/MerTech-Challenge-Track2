{
 "cells": [
  {
   "cell_type": "code",
   "execution_count": 18,
   "metadata": {},
   "outputs": [],
   "source": [
    "import lightgbm as lgb\n",
    "import pandas as pd\n",
    "import numpy as np\n",
    "import matplotlib.pyplot as plt\n",
    "import missingno as msno\n",
    "import datetime\n",
    "import seaborn as sns\n",
    "plt.rcParams['font.sans-serif']=['SimHei']\n",
    "plt.rcParams['axes.unicode_minus'] = False\n",
    "import gc\n",
    "import re\n",
    "from collections import Counter\n",
    "from sklearn.model_selection import GroupKFold, KFold, StratifiedKFold\n",
    "from sklearn.model_selection import GridSearchCV\n",
    "from sklearn import preprocessing"
   ]
  },
  {
   "cell_type": "code",
   "execution_count": 19,
   "metadata": {},
   "outputs": [],
   "source": [
    "feature_train=pd.read_pickle(\"./processed_data/df_train2.pkl\")\n",
    "feature_test=pd.read_pickle(\"./processed_data/df_test2.pkl\")"
   ]
  },
  {
   "cell_type": "code",
   "execution_count": 20,
   "metadata": {},
   "outputs": [
    {
     "output_type": "execute_result",
     "data": {
      "text/plain": "Index(['android_id', 'apptype', 'carrier', 'dev_height', 'dev_ppi',\n       'dev_width', 'label', 'lan', 'media_id', 'ntt', 'os', 'osv', 'package',\n       'timestamp', 'version', 'fea_hash', 'location', 'fea1_hash', 'cus_type',\n       'truetime', 'day', 'hour', 'minute', '160_height', '160_width',\n       '160_ppi', 'hw_ratio', 'inch'],\n      dtype='object')"
     },
     "metadata": {},
     "execution_count": 20
    }
   ],
   "source": [
    "feature_train.columns"
   ]
  },
  {
   "cell_type": "code",
   "execution_count": 21,
   "metadata": {},
   "outputs": [
    {
     "output_type": "execute_result",
     "data": {
      "text/plain": "Index(['android_id', 'apptype', 'carrier', 'dev_height', 'dev_ppi',\n       'dev_width', 'lan', 'media_id', 'ntt', 'os', 'osv', 'package',\n       'timestamp', 'version', 'fea_hash', 'location', 'fea1_hash', 'cus_type',\n       'label', 'truetime', 'day', 'hour', 'minute', '160_height', '160_width',\n       '160_ppi', 'hw_ratio', 'inch'],\n      dtype='object')"
     },
     "metadata": {},
     "execution_count": 21
    }
   ],
   "source": [
    "feature_test.columns"
   ]
  },
  {
   "cell_type": "code",
   "execution_count": 61,
   "metadata": {},
   "outputs": [],
   "source": [
    "cate_feature = ['apptype', 'carrier', 'lan', 'media_id', 'ntt', 'os', 'osv', 'package', 'version', 'location', 'fea1_hash', 'cus_type', 'day', 'hour', 'minute', '160_height', '160_width','160_ppi']\n",
    "for item in cate_feature:\n",
    "    le=preprocessing.LabelEncoder()\n",
    "    feature_train[item] = le.fit_transform(feature_train[item])\n",
    "    feature_test[item] = le.transform(feature_test[item])\n",
    "\n",
    "prediction = feature_test[['apptype', 'carrier', 'dev_height', 'dev_ppi',\n",
    "       'dev_width', 'lan', 'media_id', 'ntt', 'os', 'osv', 'package',\n",
    "       'timestamp', 'version', 'fea_hash', 'location', 'fea1_hash', 'cus_type', 'day', 'hour', 'minute', '160_height', '160_width',\n",
    "       '160_ppi', 'hw_ratio', 'inch']]\n",
    "\n",
    "\n",
    "prediction['label'] = 0\n",
    "\n",
    "\n",
    "y_col = 'label'\n",
    "x_col=['apptype', 'carrier', 'dev_height', 'dev_ppi',\n",
    "       'dev_width', 'lan', 'media_id', 'ntt', 'os', 'osv', 'package',\n",
    "       'timestamp', 'version', 'fea_hash', 'location', 'fea1_hash', 'cus_type', 'day', 'hour', 'minute', '160_height', '160_width',\n",
    "       '160_ppi', 'hw_ratio', 'inch']\n",
    "# x_col = ['apptype', 'carrier', 'dev_height', 'dev_ppi','timestamp',\n",
    "#        'dev_width', 'lan', 'media_id', 'ntt', 'os', 'osv', 'package', 'version', 'fea_hash', 'location', 'fea1_hash', 'cus_type',\n",
    "#        'Day', 'Hour', 'apptype_most_index', 'apptype_most_freq', 'carrier_most_index', 'carrier_most_freq',\n",
    "#        'lan_most_index', 'lan_most_freq', 'media_id_most_index',\n",
    "#        'media_id_most_freq', 'ntt_most_index', 'ntt_most_freq',\n",
    "#        'os_most_index', 'os_most_freq', 'osv_most_index', 'osv_most_freq',\n",
    "#        'package_most_index', 'package_most_freq', 'version_most_index',\n",
    "#        'version_most_freq', 'location_most_index', 'location_most_freq',\n",
    "#        'fea1_hash_most_index', 'fea1_hash_most_freq', 'cus_type_most_index',\n",
    "#        'cus_type_most_freq', 'Day_most_index', 'Day_most_freq',\n",
    "#        'Hour_most_index', 'Hour_most_freq']\n",
    "\n",
    "model = lgb.LGBMClassifier(boosting_type='gbdt',num_leaves=128,max_depth=7,learning_rate=0.025,n_estimators=10000,subsample=0.6,feature_fraction=0.5,reg_alpha=1.2,reg_lambda=1.2,random_state=220,metric=None,n_jobs=-1,save_binary=True,cat_smooth=30\n",
    "# ,max_bin=255\n",
    "                        #    colsample_bytree=0.8\n",
    "                        #    metric=[\"binary_error\"]\n",
    "                        #    max_bin=10,\n",
    "                        #    device=\"gpu\"\n",
    "                           )"
   ]
  },
  {
   "cell_type": "code",
   "execution_count": 62,
   "metadata": {
    "tags": [
     "outputPrepend",
     "outputPrepend",
     "outputPrepend",
     "outputPrepend",
     "outputPrepend",
     "outputPrepend",
     "outputPrepend",
     "outputPrepend",
     "outputPrepend",
     "outputPrepend",
     "outputPrepend",
     "outputPrepend",
     "outputPrepend",
     "outputPrepend",
     "outputPrepend",
     "outputPrepend",
     "outputPrepend",
     "outputPrepend",
     "outputPrepend",
     "outputPrepend",
     "outputPrepend",
     "outputPrepend",
     "outputPrepend",
     "outputPrepend",
     "outputPrepend",
     "outputPrepend",
     "outputPrepend",
     "outputPrepend",
     "outputPrepend",
     "outputPrepend",
     "outputPrepend",
     "outputPrepend",
     "outputPrepend",
     "outputPrepend",
     "outputPrepend",
     "outputPrepend",
     "outputPrepend",
     "outputPrepend",
     "outputPrepend",
     "outputPrepend"
    ]
   },
   "outputs": [
    {
     "output_type": "stream",
     "name": "stdout",
     "text": "s auc: 0.958711\ttrain's binary_logloss: 0.26046\ttrain's binary_error: 0.100558\tvalid's auc: 0.943624\tvalid's binary_logloss: 0.291949\tvalid's binary_error: 0.11012\n[900]\ttrain's auc: 0.960152\ttrain's binary_logloss: 0.256741\ttrain's binary_error: 0.0991622\tvalid's auc: 0.943675\tvalid's binary_logloss: 0.291764\tvalid's binary_error: 0.1101\n[1000]\ttrain's auc: 0.961592\ttrain's binary_logloss: 0.253013\ttrain's binary_error: 0.0978422\tvalid's auc: 0.943721\tvalid's binary_logloss: 0.291632\tvalid's binary_error: 0.11\n[1100]\ttrain's auc: 0.963126\ttrain's binary_logloss: 0.248963\ttrain's binary_error: 0.0964022\tvalid's auc: 0.943726\tvalid's binary_logloss: 0.291615\tvalid's binary_error: 0.10982\nEarly stopping, best iteration is:\n[870]\ttrain's auc: 0.95974\ttrain's binary_logloss: 0.257804\ttrain's binary_error: 0.0995689\tvalid's auc: 0.943692\tvalid's binary_logloss: 0.291741\tvalid's binary_error: 0.10976\n\nFold_4 Training ================================\n\nTraining until validation scores don't improve for 300 rounds\n[100]\ttrain's auc: 0.941258\ttrain's binary_logloss: 0.315332\ttrain's binary_error: 0.113504\tvalid's auc: 0.938584\tvalid's binary_logloss: 0.319143\tvalid's binary_error: 0.11722\n[200]\ttrain's auc: 0.946611\ttrain's binary_logloss: 0.290892\ttrain's binary_error: 0.109944\tvalid's auc: 0.940972\tvalid's binary_logloss: 0.300817\tvalid's binary_error: 0.11432\n[300]\ttrain's auc: 0.94993\ttrain's binary_logloss: 0.282524\ttrain's binary_error: 0.108167\tvalid's auc: 0.941952\tvalid's binary_logloss: 0.297488\tvalid's binary_error: 0.1135\n[400]\ttrain's auc: 0.951894\ttrain's binary_logloss: 0.277615\ttrain's binary_error: 0.10656\tvalid's auc: 0.942391\tvalid's binary_logloss: 0.296099\tvalid's binary_error: 0.11334\n[500]\ttrain's auc: 0.953772\ttrain's binary_logloss: 0.273014\ttrain's binary_error: 0.105062\tvalid's auc: 0.942636\tvalid's binary_logloss: 0.295191\tvalid's binary_error: 0.1128\n[600]\ttrain's auc: 0.95562\ttrain's binary_logloss: 0.268319\ttrain's binary_error: 0.103273\tvalid's auc: 0.94285\tvalid's binary_logloss: 0.294457\tvalid's binary_error: 0.11234\n[700]\ttrain's auc: 0.957128\ttrain's binary_logloss: 0.264454\ttrain's binary_error: 0.101902\tvalid's auc: 0.942981\tvalid's binary_logloss: 0.294016\tvalid's binary_error: 0.11184\n[800]\ttrain's auc: 0.958548\ttrain's binary_logloss: 0.260753\ttrain's binary_error: 0.100496\tvalid's auc: 0.943054\tvalid's binary_logloss: 0.293707\tvalid's binary_error: 0.11176\n[900]\ttrain's auc: 0.959951\ttrain's binary_logloss: 0.257152\ttrain's binary_error: 0.0992711\tvalid's auc: 0.943069\tvalid's binary_logloss: 0.293541\tvalid's binary_error: 0.11158\n[1000]\ttrain's auc: 0.961323\ttrain's binary_logloss: 0.253547\ttrain's binary_error: 0.09778\tvalid's auc: 0.943112\tvalid's binary_logloss: 0.29338\tvalid's binary_error: 0.11122\n[1100]\ttrain's auc: 0.9629\ttrain's binary_logloss: 0.249371\ttrain's binary_error: 0.0964178\tvalid's auc: 0.943128\tvalid's binary_logloss: 0.2933\tvalid's binary_error: 0.11102\n[1200]\ttrain's auc: 0.964322\ttrain's binary_logloss: 0.24555\ttrain's binary_error: 0.0951956\tvalid's auc: 0.943103\tvalid's binary_logloss: 0.293286\tvalid's binary_error: 0.11084\n[1300]\ttrain's auc: 0.965627\ttrain's binary_logloss: 0.241924\ttrain's binary_error: 0.0939156\tvalid's auc: 0.943084\tvalid's binary_logloss: 0.293275\tvalid's binary_error: 0.11074\nEarly stopping, best iteration is:\n[1099]\ttrain's auc: 0.962868\ttrain's binary_logloss: 0.249453\ttrain's binary_error: 0.0964222\tvalid's auc: 0.943135\tvalid's binary_logloss: 0.293289\tvalid's binary_error: 0.11098\n\nFold_5 Training ================================\n\nTraining until validation scores don't improve for 300 rounds\n[100]\ttrain's auc: 0.941367\ttrain's binary_logloss: 0.315077\ttrain's binary_error: 0.113176\tvalid's auc: 0.937893\tvalid's binary_logloss: 0.320652\tvalid's binary_error: 0.11624\n[200]\ttrain's auc: 0.946707\ttrain's binary_logloss: 0.290538\ttrain's binary_error: 0.109896\tvalid's auc: 0.940033\tvalid's binary_logloss: 0.302932\tvalid's binary_error: 0.11388\n[300]\ttrain's auc: 0.94999\ttrain's binary_logloss: 0.282253\ttrain's binary_error: 0.108156\tvalid's auc: 0.940972\tvalid's binary_logloss: 0.299713\tvalid's binary_error: 0.11306\n[400]\ttrain's auc: 0.951875\ttrain's binary_logloss: 0.277468\ttrain's binary_error: 0.10652\tvalid's auc: 0.941357\tvalid's binary_logloss: 0.298456\tvalid's binary_error: 0.1128\n[500]\ttrain's auc: 0.953489\ttrain's binary_logloss: 0.273356\ttrain's binary_error: 0.105087\tvalid's auc: 0.941577\tvalid's binary_logloss: 0.297646\tvalid's binary_error: 0.11222\n[600]\ttrain's auc: 0.955262\ttrain's binary_logloss: 0.268865\ttrain's binary_error: 0.103351\tvalid's auc: 0.941756\tvalid's binary_logloss: 0.296938\tvalid's binary_error: 0.11198\n[700]\ttrain's auc: 0.956888\ttrain's binary_logloss: 0.264778\ttrain's binary_error: 0.101969\tvalid's auc: 0.941911\tvalid's binary_logloss: 0.296447\tvalid's binary_error: 0.11166\n[800]\ttrain's auc: 0.95835\ttrain's binary_logloss: 0.261083\ttrain's binary_error: 0.100664\tvalid's auc: 0.941953\tvalid's binary_logloss: 0.296248\tvalid's binary_error: 0.11166\n[900]\ttrain's auc: 0.959956\ttrain's binary_logloss: 0.256946\ttrain's binary_error: 0.0992022\tvalid's auc: 0.942091\tvalid's binary_logloss: 0.295851\tvalid's binary_error: 0.11128\n[1000]\ttrain's auc: 0.961323\ttrain's binary_logloss: 0.25338\ttrain's binary_error: 0.0979156\tvalid's auc: 0.942121\tvalid's binary_logloss: 0.295673\tvalid's binary_error: 0.11098\n[1100]\ttrain's auc: 0.962872\ttrain's binary_logloss: 0.249311\ttrain's binary_error: 0.0965156\tvalid's auc: 0.942138\tvalid's binary_logloss: 0.29559\tvalid's binary_error: 0.1108\n[1200]\ttrain's auc: 0.964299\ttrain's binary_logloss: 0.245472\ttrain's binary_error: 0.0951489\tvalid's auc: 0.942137\tvalid's binary_logloss: 0.295584\tvalid's binary_error: 0.11086\n[1300]\ttrain's auc: 0.965595\ttrain's binary_logloss: 0.241962\ttrain's binary_error: 0.0937867\tvalid's auc: 0.942111\tvalid's binary_logloss: 0.29562\tvalid's binary_error: 0.1109\nEarly stopping, best iteration is:\n[1094]\ttrain's auc: 0.962794\ttrain's binary_logloss: 0.249516\ttrain's binary_error: 0.0965756\tvalid's auc: 0.942147\tvalid's binary_logloss: 0.295579\tvalid's binary_error: 0.1109\n\nFold_6 Training ================================\n\nTraining until validation scores don't improve for 300 rounds\n[100]\ttrain's auc: 0.941227\ttrain's binary_logloss: 0.315197\ttrain's binary_error: 0.113422\tvalid's auc: 0.938936\tvalid's binary_logloss: 0.319827\tvalid's binary_error: 0.11646\n[200]\ttrain's auc: 0.946559\ttrain's binary_logloss: 0.290794\ttrain's binary_error: 0.109996\tvalid's auc: 0.941307\tvalid's binary_logloss: 0.301559\tvalid's binary_error: 0.11432\n[300]\ttrain's auc: 0.949978\ttrain's binary_logloss: 0.282239\ttrain's binary_error: 0.108082\tvalid's auc: 0.94238\tvalid's binary_logloss: 0.297915\tvalid's binary_error: 0.11362\n[400]\ttrain's auc: 0.951798\ttrain's binary_logloss: 0.277712\ttrain's binary_error: 0.106651\tvalid's auc: 0.942707\tvalid's binary_logloss: 0.2966\tvalid's binary_error: 0.11322\n[500]\ttrain's auc: 0.95357\ttrain's binary_logloss: 0.273269\ttrain's binary_error: 0.105051\tvalid's auc: 0.942982\tvalid's binary_logloss: 0.295618\tvalid's binary_error: 0.1126\n[600]\ttrain's auc: 0.955375\ttrain's binary_logloss: 0.268791\ttrain's binary_error: 0.103547\tvalid's auc: 0.943165\tvalid's binary_logloss: 0.29496\tvalid's binary_error: 0.1122\n[700]\ttrain's auc: 0.956952\ttrain's binary_logloss: 0.264884\ttrain's binary_error: 0.102013\tvalid's auc: 0.943237\tvalid's binary_logloss: 0.294586\tvalid's binary_error: 0.11254\n[800]\ttrain's auc: 0.958493\ttrain's binary_logloss: 0.260942\ttrain's binary_error: 0.100556\tvalid's auc: 0.943317\tvalid's binary_logloss: 0.294285\tvalid's binary_error: 0.11228\n[900]\ttrain's auc: 0.960039\ttrain's binary_logloss: 0.256963\ttrain's binary_error: 0.0990756\tvalid's auc: 0.943378\tvalid's binary_logloss: 0.294033\tvalid's binary_error: 0.11236\n[1000]\ttrain's auc: 0.961578\ttrain's binary_logloss: 0.252908\ttrain's binary_error: 0.0976711\tvalid's auc: 0.943383\tvalid's binary_logloss: 0.293848\tvalid's binary_error: 0.11222\n[1100]\ttrain's auc: 0.963064\ttrain's binary_logloss: 0.249007\ttrain's binary_error: 0.09632\tvalid's auc: 0.943387\tvalid's binary_logloss: 0.293777\tvalid's binary_error: 0.1119\n[1200]\ttrain's auc: 0.964458\ttrain's binary_logloss: 0.245276\ttrain's binary_error: 0.0950978\tvalid's auc: 0.943395\tvalid's binary_logloss: 0.293644\tvalid's binary_error: 0.11144\n[1300]\ttrain's auc: 0.965674\ttrain's binary_logloss: 0.241914\ttrain's binary_error: 0.0938889\tvalid's auc: 0.943402\tvalid's binary_logloss: 0.293583\tvalid's binary_error: 0.11142\n[1400]\ttrain's auc: 0.966944\ttrain's binary_logloss: 0.238394\ttrain's binary_error: 0.0925622\tvalid's auc: 0.943402\tvalid's binary_logloss: 0.293543\tvalid's binary_error: 0.11096\n[1500]\ttrain's auc: 0.968278\ttrain's binary_logloss: 0.234701\ttrain's binary_error: 0.0911156\tvalid's auc: 0.943378\tvalid's binary_logloss: 0.293586\tvalid's binary_error: 0.11086\n[1600]\ttrain's auc: 0.969421\ttrain's binary_logloss: 0.231365\ttrain's binary_error: 0.0899044\tvalid's auc: 0.943315\tvalid's binary_logloss: 0.293739\tvalid's binary_error: 0.11084\n[1700]\ttrain's auc: 0.970641\ttrain's binary_logloss: 0.227804\ttrain's binary_error: 0.0885067\tvalid's auc: 0.94321\tvalid's binary_logloss: 0.293968\tvalid's binary_error: 0.11094\nEarly stopping, best iteration is:\n[1414]\ttrain's auc: 0.967113\ttrain's binary_logloss: 0.237941\ttrain's binary_error: 0.0924022\tvalid's auc: 0.943415\tvalid's binary_logloss: 0.293506\tvalid's binary_error: 0.11098\n\nFold_7 Training ================================\n\nTraining until validation scores don't improve for 300 rounds\n[100]\ttrain's auc: 0.941261\ttrain's binary_logloss: 0.315311\ttrain's binary_error: 0.113487\tvalid's auc: 0.938572\tvalid's binary_logloss: 0.319099\tvalid's binary_error: 0.11584\n[200]\ttrain's auc: 0.946683\ttrain's binary_logloss: 0.290606\ttrain's binary_error: 0.110049\tvalid's auc: 0.94103\tvalid's binary_logloss: 0.30076\tvalid's binary_error: 0.11428\n[300]\ttrain's auc: 0.949928\ttrain's binary_logloss: 0.28236\ttrain's binary_error: 0.108369\tvalid's auc: 0.942048\tvalid's binary_logloss: 0.297376\tvalid's binary_error: 0.11392\n[400]\ttrain's auc: 0.951806\ttrain's binary_logloss: 0.277697\ttrain's binary_error: 0.106771\tvalid's auc: 0.942527\tvalid's binary_logloss: 0.295932\tvalid's binary_error: 0.11282\n[500]\ttrain's auc: 0.953565\ttrain's binary_logloss: 0.273343\ttrain's binary_error: 0.105204\tvalid's auc: 0.942824\tvalid's binary_logloss: 0.294975\tvalid's binary_error: 0.11238\n[600]\ttrain's auc: 0.955317\ttrain's binary_logloss: 0.268982\ttrain's binary_error: 0.103667\tvalid's auc: 0.943107\tvalid's binary_logloss: 0.294016\tvalid's binary_error: 0.1117\n[700]\ttrain's auc: 0.956978\ttrain's binary_logloss: 0.264792\ttrain's binary_error: 0.102058\tvalid's auc: 0.943209\tvalid's binary_logloss: 0.293529\tvalid's binary_error: 0.11152\n[800]\ttrain's auc: 0.95862\ttrain's binary_logloss: 0.26064\ttrain's binary_error: 0.100511\tvalid's auc: 0.943353\tvalid's binary_logloss: 0.293087\tvalid's binary_error: 0.11112\n[900]\ttrain's auc: 0.960202\ttrain's binary_logloss: 0.25656\ttrain's binary_error: 0.0991533\tvalid's auc: 0.943419\tvalid's binary_logloss: 0.292824\tvalid's binary_error: 0.11096\n[1000]\ttrain's auc: 0.961576\ttrain's binary_logloss: 0.252959\ttrain's binary_error: 0.0980067\tvalid's auc: 0.943491\tvalid's binary_logloss: 0.292593\tvalid's binary_error: 0.11106\n[1100]\ttrain's auc: 0.963141\ttrain's binary_logloss: 0.248791\ttrain's binary_error: 0.0965289\tvalid's auc: 0.94353\tvalid's binary_logloss: 0.292438\tvalid's binary_error: 0.11092\n[1200]\ttrain's auc: 0.964643\ttrain's binary_logloss: 0.244735\ttrain's binary_error: 0.0950044\tvalid's auc: 0.943507\tvalid's binary_logloss: 0.292415\tvalid's binary_error: 0.11064\n[1300]\ttrain's auc: 0.96607\ttrain's binary_logloss: 0.240784\ttrain's binary_error: 0.0934822\tvalid's auc: 0.943486\tvalid's binary_logloss: 0.292421\tvalid's binary_error: 0.11036\nEarly stopping, best iteration is:\n[1087]\ttrain's auc: 0.962889\ttrain's binary_logloss: 0.249457\ttrain's binary_error: 0.09676\tvalid's auc: 0.943544\tvalid's binary_logloss: 0.292417\tvalid's binary_error: 0.11082\n\nFold_8 Training ================================\n\nTraining until validation scores don't improve for 300 rounds\n[100]\ttrain's auc: 0.941035\ttrain's binary_logloss: 0.315994\ttrain's binary_error: 0.113693\tvalid's auc: 0.940489\tvalid's binary_logloss: 0.315039\tvalid's binary_error: 0.11348\n[200]\ttrain's auc: 0.946499\ttrain's binary_logloss: 0.291115\ttrain's binary_error: 0.110336\tvalid's auc: 0.942661\tvalid's binary_logloss: 0.296113\tvalid's binary_error: 0.11084\n[300]\ttrain's auc: 0.949758\ttrain's binary_logloss: 0.282942\ttrain's binary_error: 0.10844\tvalid's auc: 0.943495\tvalid's binary_logloss: 0.292958\tvalid's binary_error: 0.1103\n[400]\ttrain's auc: 0.951862\ttrain's binary_logloss: 0.277788\ttrain's binary_error: 0.106633\tvalid's auc: 0.943785\tvalid's binary_logloss: 0.291771\tvalid's binary_error: 0.10964\n[500]\ttrain's auc: 0.953576\ttrain's binary_logloss: 0.27341\ttrain's binary_error: 0.104833\tvalid's auc: 0.944031\tvalid's binary_logloss: 0.290883\tvalid's binary_error: 0.10916\n[600]\ttrain's auc: 0.955346\ttrain's binary_logloss: 0.268954\ttrain's binary_error: 0.103127\tvalid's auc: 0.944246\tvalid's binary_logloss: 0.290114\tvalid's binary_error: 0.1087\n[700]\ttrain's auc: 0.956856\ttrain's binary_logloss: 0.265179\ttrain's binary_error: 0.101862\tvalid's auc: 0.944279\tvalid's binary_logloss: 0.289832\tvalid's binary_error: 0.10846\n[800]\ttrain's auc: 0.958426\ttrain's binary_logloss: 0.261136\ttrain's binary_error: 0.10038\tvalid's auc: 0.944315\tvalid's binary_logloss: 0.289569\tvalid's binary_error: 0.10842\n[900]\ttrain's auc: 0.959947\ttrain's binary_logloss: 0.257218\ttrain's binary_error: 0.0990289\tvalid's auc: 0.944348\tvalid's binary_logloss: 0.289369\tvalid's binary_error: 0.10842\n[1000]\ttrain's auc: 0.961453\ttrain's binary_logloss: 0.253304\ttrain's binary_error: 0.0976467\tvalid's auc: 0.944341\tvalid's binary_logloss: 0.289271\tvalid's binary_error: 0.1083\n[1100]\ttrain's auc: 0.963075\ttrain's binary_logloss: 0.249067\ttrain's binary_error: 0.0963133\tvalid's auc: 0.944318\tvalid's binary_logloss: 0.289318\tvalid's binary_error: 0.10844\n[1200]\ttrain's auc: 0.964433\ttrain's binary_logloss: 0.245388\ttrain's binary_error: 0.0950156\tvalid's auc: 0.944292\tvalid's binary_logloss: 0.289301\tvalid's binary_error: 0.108\nEarly stopping, best iteration is:\n[961]\ttrain's auc: 0.960873\ttrain's binary_logloss: 0.2548\ttrain's binary_error: 0.0981911\tvalid's auc: 0.94437\tvalid's binary_logloss: 0.28925\tvalid's binary_error: 0.1082\n\nFold_9 Training ================================\n\nTraining until validation scores don't improve for 300 rounds\n[100]\ttrain's auc: 0.941174\ttrain's binary_logloss: 0.315349\ttrain's binary_error: 0.113531\tvalid's auc: 0.94011\tvalid's binary_logloss: 0.317474\tvalid's binary_error: 0.1158\n[200]\ttrain's auc: 0.946506\ttrain's binary_logloss: 0.290814\ttrain's binary_error: 0.11012\tvalid's auc: 0.942554\tvalid's binary_logloss: 0.29835\tvalid's binary_error: 0.11342\n[300]\ttrain's auc: 0.949831\ttrain's binary_logloss: 0.282545\ttrain's binary_error: 0.108273\tvalid's auc: 0.943525\tvalid's binary_logloss: 0.294844\tvalid's binary_error: 0.11298\n[400]\ttrain's auc: 0.951701\ttrain's binary_logloss: 0.277895\ttrain's binary_error: 0.106811\tvalid's auc: 0.943867\tvalid's binary_logloss: 0.293518\tvalid's binary_error: 0.11238\n[500]\ttrain's auc: 0.953374\ttrain's binary_logloss: 0.273709\ttrain's binary_error: 0.105153\tvalid's auc: 0.944162\tvalid's binary_logloss: 0.292467\tvalid's binary_error: 0.11134\n[600]\ttrain's auc: 0.955157\ttrain's binary_logloss: 0.269264\ttrain's binary_error: 0.103544\tvalid's auc: 0.944357\tvalid's binary_logloss: 0.291718\tvalid's binary_error: 0.11126\n[700]\ttrain's auc: 0.956656\ttrain's binary_logloss: 0.265534\ttrain's binary_error: 0.10228\tvalid's auc: 0.944494\tvalid's binary_logloss: 0.291226\tvalid's binary_error: 0.1112\n[800]\ttrain's auc: 0.9583\ttrain's binary_logloss: 0.261446\ttrain's binary_error: 0.100873\tvalid's auc: 0.944584\tvalid's binary_logloss: 0.290903\tvalid's binary_error: 0.1107\n[900]\ttrain's auc: 0.959924\ttrain's binary_logloss: 0.257308\ttrain's binary_error: 0.0994933\tvalid's auc: 0.944718\tvalid's binary_logloss: 0.29054\tvalid's binary_error: 0.1106\n[1000]\ttrain's auc: 0.961419\ttrain's binary_logloss: 0.253461\ttrain's binary_error: 0.0981689\tvalid's auc: 0.944758\tvalid's binary_logloss: 0.290387\tvalid's binary_error: 0.11042\n[1100]\ttrain's auc: 0.962932\ttrain's binary_logloss: 0.249484\ttrain's binary_error: 0.0967156\tvalid's auc: 0.944771\tvalid's binary_logloss: 0.290269\tvalid's binary_error: 0.11034\n[1200]\ttrain's auc: 0.964298\ttrain's binary_logloss: 0.245798\ttrain's binary_error: 0.0953089\tvalid's auc: 0.944777\tvalid's binary_logloss: 0.290192\tvalid's binary_error: 0.11034\n[1300]\ttrain's auc: 0.96558\ttrain's binary_logloss: 0.242309\ttrain's binary_error: 0.0941133\tvalid's auc: 0.944747\tvalid's binary_logloss: 0.290264\tvalid's binary_error: 0.11\n[1400]\ttrain's auc: 0.96688\ttrain's binary_logloss: 0.238648\ttrain's binary_error: 0.0928556\tvalid's auc: 0.944748\tvalid's binary_logloss: 0.290227\tvalid's binary_error: 0.11018\nEarly stopping, best iteration is:\n[1133]\ttrain's auc: 0.963373\ttrain's binary_logloss: 0.248305\ttrain's binary_error: 0.0962822\tvalid's auc: 0.944801\tvalid's binary_logloss: 0.290187\tvalid's binary_error: 0.11036\n\nFold_10 Training ================================\n\nTraining until validation scores don't improve for 300 rounds\n[100]\ttrain's auc: 0.94124\ttrain's binary_logloss: 0.315276\ttrain's binary_error: 0.113369\tvalid's auc: 0.939581\tvalid's binary_logloss: 0.318101\tvalid's binary_error: 0.11486\n[200]\ttrain's auc: 0.946561\ttrain's binary_logloss: 0.290806\ttrain's binary_error: 0.110096\tvalid's auc: 0.941763\tvalid's binary_logloss: 0.299731\tvalid's binary_error: 0.11294\n[300]\ttrain's auc: 0.949928\ttrain's binary_logloss: 0.282325\ttrain's binary_error: 0.108289\tvalid's auc: 0.942692\tvalid's binary_logloss: 0.296338\tvalid's binary_error: 0.11196\n[400]\ttrain's auc: 0.951854\ttrain's binary_logloss: 0.27763\ttrain's binary_error: 0.106811\tvalid's auc: 0.943053\tvalid's binary_logloss: 0.295077\tvalid's binary_error: 0.1117\n[500]\ttrain's auc: 0.953587\ttrain's binary_logloss: 0.273299\ttrain's binary_error: 0.104953\tvalid's auc: 0.943236\tvalid's binary_logloss: 0.294268\tvalid's binary_error: 0.11166\n[600]\ttrain's auc: 0.955365\ttrain's binary_logloss: 0.268834\ttrain's binary_error: 0.103207\tvalid's auc: 0.943459\tvalid's binary_logloss: 0.293458\tvalid's binary_error: 0.11138\n[700]\ttrain's auc: 0.95699\ttrain's binary_logloss: 0.264818\ttrain's binary_error: 0.101782\tvalid's auc: 0.943606\tvalid's binary_logloss: 0.292937\tvalid's binary_error: 0.11094\n[800]\ttrain's auc: 0.958543\ttrain's binary_logloss: 0.260849\ttrain's binary_error: 0.100387\tvalid's auc: 0.94367\tvalid's binary_logloss: 0.292596\tvalid's binary_error: 0.11044\n[900]\ttrain's auc: 0.960162\ttrain's binary_logloss: 0.256717\ttrain's binary_error: 0.0988844\tvalid's auc: 0.943714\tvalid's binary_logloss: 0.292387\tvalid's binary_error: 0.11028\n[1000]\ttrain's auc: 0.961707\ttrain's binary_logloss: 0.252705\ttrain's binary_error: 0.0975089\tvalid's auc: 0.943773\tvalid's binary_logloss: 0.292188\tvalid's binary_error: 0.11026\n[1100]\ttrain's auc: 0.96323\ttrain's binary_logloss: 0.24871\ttrain's binary_error: 0.0960867\tvalid's auc: 0.943744\tvalid's binary_logloss: 0.292154\tvalid's binary_error: 0.11022\n[1200]\ttrain's auc: 0.964519\ttrain's binary_logloss: 0.245239\ttrain's binary_error: 0.0947956\tvalid's auc: 0.943748\tvalid's binary_logloss: 0.292105\tvalid's binary_error: 0.11022\n[1300]\ttrain's auc: 0.965728\ttrain's binary_logloss: 0.241855\ttrain's binary_error: 0.0936733\tvalid's auc: 0.943759\tvalid's binary_logloss: 0.29203\tvalid's binary_error: 0.10992\nEarly stopping, best iteration is:\n[1000]\ttrain's auc: 0.961707\ttrain's binary_logloss: 0.252705\ttrain's binary_error: 0.0975089\tvalid's auc: 0.943773\tvalid's binary_logloss: 0.292188\tvalid's binary_error: 0.11026\n"
    }
   ],
   "source": [
    "oof = []\n",
    "df_importance_list = []\n",
    "n=10\n",
    "kfold = KFold(n_splits=n,shuffle=True,random_state=20)\n",
    "for fold_id, (trn_idx, val_idx) in enumerate(kfold.split(feature_train[x_col], feature_train[y_col])):\n",
    "    X_train = feature_train.iloc[trn_idx][x_col]\n",
    "    Y_train = feature_train.iloc[trn_idx][y_col]\n",
    "\n",
    "    X_val = feature_train.iloc[val_idx][x_col]\n",
    "    Y_val = feature_train.iloc[val_idx][y_col]\n",
    "\n",
    "    print('\\nFold_{} Training ================================\\n'.format(fold_id+1))\n",
    "\n",
    "    lgb_model = model.fit(\n",
    "        X_train,\n",
    "        Y_train,\n",
    "        categorical_feature=cate_feature,\n",
    "        eval_names=['train', 'valid'],\n",
    "        eval_set=[(X_train, Y_train), (X_val, Y_val)],\n",
    "        verbose=100,\n",
    "        eval_metric=[\"auc\",\"binary_logloss\",\"binary_error\"],\n",
    "        early_stopping_rounds=300\n",
    "    )\n",
    "\n",
    "    pred_val = lgb_model.predict_proba(X_val, num_iteration=lgb_model.best_iteration_)[:, 1]\n",
    "    df_oof = feature_train.iloc[val_idx].copy()\n",
    "    df_oof['pred'] = pred_val\n",
    "    oof.append(df_oof)\n",
    "\n",
    "    pred_test = lgb_model.predict_proba(feature_test[x_col], num_iteration=lgb_model.best_iteration_)[:, 1]\n",
    "    prediction['label'] += pred_test / n\n",
    "\n",
    "    df_importance = pd.DataFrame({\n",
    "        'column': x_col,\n",
    "        'importance': lgb_model.feature_importances_,\n",
    "    })\n",
    "    df_importance_list.append(df_importance)"
   ]
  },
  {
   "cell_type": "code",
   "execution_count": 60,
   "metadata": {},
   "outputs": [
    {
     "output_type": "execute_result",
     "data": {
      "text/plain": "        column  importance\n0       minute      7948.4\n1     hw_ratio      7942.1\n2    timestamp      7547.0\n3     fea_hash      7371.9\n4     location      7044.1\n5     cus_type      7006.1\n6   dev_height      6436.4\n7    fea1_hash      5847.9\n8         hour      4996.5\n9         inch      4506.8\n10    media_id      4449.5\n11         osv      3708.4\n12   dev_width      3152.9\n13     package      2325.5\n14     apptype      2047.2\n15     dev_ppi      1572.7\n16         day      1053.7\n17     version       886.3\n18  160_height       682.1\n19          os       654.4\n20     carrier       425.0\n21         lan       344.4\n22     160_ppi       328.4\n23         ntt       312.4\n24   160_width       287.9",
      "text/html": "<div>\n<style scoped>\n    .dataframe tbody tr th:only-of-type {\n        vertical-align: middle;\n    }\n\n    .dataframe tbody tr th {\n        vertical-align: top;\n    }\n\n    .dataframe thead th {\n        text-align: right;\n    }\n</style>\n<table border=\"1\" class=\"dataframe\">\n  <thead>\n    <tr style=\"text-align: right;\">\n      <th></th>\n      <th>column</th>\n      <th>importance</th>\n    </tr>\n  </thead>\n  <tbody>\n    <tr>\n      <th>0</th>\n      <td>minute</td>\n      <td>7948.4</td>\n    </tr>\n    <tr>\n      <th>1</th>\n      <td>hw_ratio</td>\n      <td>7942.1</td>\n    </tr>\n    <tr>\n      <th>2</th>\n      <td>timestamp</td>\n      <td>7547.0</td>\n    </tr>\n    <tr>\n      <th>3</th>\n      <td>fea_hash</td>\n      <td>7371.9</td>\n    </tr>\n    <tr>\n      <th>4</th>\n      <td>location</td>\n      <td>7044.1</td>\n    </tr>\n    <tr>\n      <th>5</th>\n      <td>cus_type</td>\n      <td>7006.1</td>\n    </tr>\n    <tr>\n      <th>6</th>\n      <td>dev_height</td>\n      <td>6436.4</td>\n    </tr>\n    <tr>\n      <th>7</th>\n      <td>fea1_hash</td>\n      <td>5847.9</td>\n    </tr>\n    <tr>\n      <th>8</th>\n      <td>hour</td>\n      <td>4996.5</td>\n    </tr>\n    <tr>\n      <th>9</th>\n      <td>inch</td>\n      <td>4506.8</td>\n    </tr>\n    <tr>\n      <th>10</th>\n      <td>media_id</td>\n      <td>4449.5</td>\n    </tr>\n    <tr>\n      <th>11</th>\n      <td>osv</td>\n      <td>3708.4</td>\n    </tr>\n    <tr>\n      <th>12</th>\n      <td>dev_width</td>\n      <td>3152.9</td>\n    </tr>\n    <tr>\n      <th>13</th>\n      <td>package</td>\n      <td>2325.5</td>\n    </tr>\n    <tr>\n      <th>14</th>\n      <td>apptype</td>\n      <td>2047.2</td>\n    </tr>\n    <tr>\n      <th>15</th>\n      <td>dev_ppi</td>\n      <td>1572.7</td>\n    </tr>\n    <tr>\n      <th>16</th>\n      <td>day</td>\n      <td>1053.7</td>\n    </tr>\n    <tr>\n      <th>17</th>\n      <td>version</td>\n      <td>886.3</td>\n    </tr>\n    <tr>\n      <th>18</th>\n      <td>160_height</td>\n      <td>682.1</td>\n    </tr>\n    <tr>\n      <th>19</th>\n      <td>os</td>\n      <td>654.4</td>\n    </tr>\n    <tr>\n      <th>20</th>\n      <td>carrier</td>\n      <td>425.0</td>\n    </tr>\n    <tr>\n      <th>21</th>\n      <td>lan</td>\n      <td>344.4</td>\n    </tr>\n    <tr>\n      <th>22</th>\n      <td>160_ppi</td>\n      <td>328.4</td>\n    </tr>\n    <tr>\n      <th>23</th>\n      <td>ntt</td>\n      <td>312.4</td>\n    </tr>\n    <tr>\n      <th>24</th>\n      <td>160_width</td>\n      <td>287.9</td>\n    </tr>\n  </tbody>\n</table>\n</div>"
     },
     "metadata": {},
     "execution_count": 60
    }
   ],
   "source": [
    "df_importance = pd.concat(df_importance_list)\n",
    "df_importance = df_importance.groupby(['column'])['importance'].agg('mean').sort_values(ascending=False).reset_index()\n",
    "df_importance"
   ]
  },
  {
   "cell_type": "code",
   "execution_count": 49,
   "metadata": {},
   "outputs": [],
   "source": [
    "a = pd.DataFrame(prediction.index)\n",
    "a['label'] = lgb_model.predict(prediction[x_col])"
   ]
  },
  {
   "cell_type": "code",
   "execution_count": 17,
   "metadata": {},
   "outputs": [],
   "source": [
    "# a.to_csv('submission_0609_0137.csv', index=False)"
   ]
  },
  {
   "cell_type": "code",
   "execution_count": 50,
   "metadata": {},
   "outputs": [],
   "source": [
    "user_label=pd.DataFrame()\n",
    "user_label[\"uid\"]=feature_train.groupby(\"android_id\").count().index\n",
    "user_label=user_label.set_index(\"uid\")\n",
    "\n",
    "user_label[\"label_prior\"]=feature_train.groupby(\"android_id\").label.mean()"
   ]
  },
  {
   "cell_type": "code",
   "execution_count": 51,
   "metadata": {},
   "outputs": [],
   "source": [
    "a[\"uid\"]=feature_test.android_id.values\n",
    "a=pd.merge(a,user_label,on=\"uid\",how=\"left\")"
   ]
  },
  {
   "cell_type": "code",
   "execution_count": 52,
   "metadata": {},
   "outputs": [],
   "source": [
    "def post(label,prior):\n",
    "    n=len(label)\n",
    "    count=0\n",
    "    for i in range(n):\n",
    "        if 0<=prior[i]<=0.1 and label[i]==1:\n",
    "            label[i]=0\n",
    "            count+=1\n",
    "            # print(i)\n",
    "        elif 0.9<=prior[i]<=1 and label[i]==0:\n",
    "            label[i]=1\n",
    "            count+=1\n",
    "            # print(i)\n",
    "        else:\n",
    "            pass\n",
    "    print(count)\n",
    "    return label.values"
   ]
  },
  {
   "cell_type": "code",
   "execution_count": 53,
   "metadata": {},
   "outputs": [
    {
     "output_type": "stream",
     "name": "stdout",
     "text": "399\n"
    }
   ],
   "source": [
    "a.label=post(a.label,a.label_prior)"
   ]
  },
  {
   "cell_type": "code",
   "execution_count": 54,
   "metadata": {},
   "outputs": [],
   "source": [
    "a=a[[\"sid\",\"label\"]]\n",
    "a.to_csv('submission_0609_0206.csv', index=False)"
   ]
  },
  {
   "cell_type": "code",
   "execution_count": 55,
   "metadata": {},
   "outputs": [
    {
     "output_type": "execute_result",
     "data": {
      "text/plain": "            sid  label\n0       1440682      0\n1       1606824      1\n2       1774642      0\n3       1742535      0\n4       1689686      1\n...         ...    ...\n149995  1165373      1\n149996  1444115      1\n149997  1134378      1\n149998  1700238      1\n149999  1201539      1\n\n[150000 rows x 2 columns]",
      "text/html": "<div>\n<style scoped>\n    .dataframe tbody tr th:only-of-type {\n        vertical-align: middle;\n    }\n\n    .dataframe tbody tr th {\n        vertical-align: top;\n    }\n\n    .dataframe thead th {\n        text-align: right;\n    }\n</style>\n<table border=\"1\" class=\"dataframe\">\n  <thead>\n    <tr style=\"text-align: right;\">\n      <th></th>\n      <th>sid</th>\n      <th>label</th>\n    </tr>\n  </thead>\n  <tbody>\n    <tr>\n      <th>0</th>\n      <td>1440682</td>\n      <td>0</td>\n    </tr>\n    <tr>\n      <th>1</th>\n      <td>1606824</td>\n      <td>1</td>\n    </tr>\n    <tr>\n      <th>2</th>\n      <td>1774642</td>\n      <td>0</td>\n    </tr>\n    <tr>\n      <th>3</th>\n      <td>1742535</td>\n      <td>0</td>\n    </tr>\n    <tr>\n      <th>4</th>\n      <td>1689686</td>\n      <td>1</td>\n    </tr>\n    <tr>\n      <th>...</th>\n      <td>...</td>\n      <td>...</td>\n    </tr>\n    <tr>\n      <th>149995</th>\n      <td>1165373</td>\n      <td>1</td>\n    </tr>\n    <tr>\n      <th>149996</th>\n      <td>1444115</td>\n      <td>1</td>\n    </tr>\n    <tr>\n      <th>149997</th>\n      <td>1134378</td>\n      <td>1</td>\n    </tr>\n    <tr>\n      <th>149998</th>\n      <td>1700238</td>\n      <td>1</td>\n    </tr>\n    <tr>\n      <th>149999</th>\n      <td>1201539</td>\n      <td>1</td>\n    </tr>\n  </tbody>\n</table>\n<p>150000 rows × 2 columns</p>\n</div>"
     },
     "metadata": {},
     "execution_count": 55
    }
   ],
   "source": [
    "a"
   ]
  },
  {
   "cell_type": "code",
   "execution_count": 56,
   "metadata": {},
   "outputs": [
    {
     "output_type": "execute_result",
     "data": {
      "text/plain": "LGBMClassifier(boosting_type='gbdt', class_weight=None, colsample_bytree=1.0,\n               feature_fraction=0.4, importance_type='split',\n               learning_rate=0.02, max_depth=6, metric=None,\n               min_child_samples=20, min_child_weight=0.001, min_split_gain=0.0,\n               n_estimators=10000, n_jobs=-1, num_leaves=100, objective=None,\n               random_state=220, reg_alpha=0.8, reg_lambda=0.8,\n               save_binary=True, silent=True, subsample=0.6,\n               subsample_for_bin=200000, subsample_freq=0)"
     },
     "metadata": {},
     "execution_count": 56
    }
   ],
   "source": [
    "model"
   ]
  },
  {
   "cell_type": "code",
   "execution_count": null,
   "metadata": {},
   "outputs": [],
   "source": []
  }
 ],
 "metadata": {
  "language_info": {
   "codemirror_mode": {
    "name": "ipython",
    "version": 3
   },
   "file_extension": ".py",
   "mimetype": "text/x-python",
   "name": "python",
   "nbconvert_exporter": "python",
   "pygments_lexer": "ipython3",
   "version": "3.7.6-final"
  },
  "orig_nbformat": 2,
  "kernelspec": {
   "name": "python3",
   "display_name": "Python 3"
  }
 },
 "nbformat": 4,
 "nbformat_minor": 2
}